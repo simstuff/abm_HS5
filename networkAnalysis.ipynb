{
 "cells": [
  {
   "cell_type": "markdown",
   "metadata": {},
   "source": [
    "# Load Graphs"
   ]
  },
  {
   "cell_type": "code",
   "execution_count": 2,
   "metadata": {},
   "outputs": [],
   "source": [
    "import os\n",
    "import glob\n",
    "\n",
    "path=\"/home/niklas/Documents/Studium_Uni_Bamberg/Semester4/PWM-PT-HS5/data\"\n",
    "\n",
    "def load_graphs(path):\n",
    "    path_list=[]\n",
    "    for folder in os.listdir(path):\n",
    "        os.chdir(path)\n",
    "        path_list.append(glob.glob(os.path.join(path,folder,'*.{}'.format(\"edgelist\"))))      \n",
    "    return path_list\n",
    "\n"
   ]
  },
  {
   "cell_type": "markdown",
   "metadata": {},
   "source": [
    "## Load Graph for t=1"
   ]
  },
  {
   "cell_type": "code",
   "execution_count": 7,
   "metadata": {},
   "outputs": [],
   "source": [
    "import networkx as nx\n",
    "\n",
    "paths=load_graphs(path)\n",
    "count=len(paths[0])\n",
    "number=len(paths)\n",
    "\n",
    "def create_network(edgelist:str):\n",
    "    G=nx.read_edgelist(edgelist)\n",
    "    return G\n",
    "\n",
    "def create_network_t1(paths:list,count:int,number:int):\n",
    "    edgelist=paths[number-1][count-1]\n",
    "    G=create_network(edgelist)\n",
    "    return G\n"
   ]
  },
  {
   "cell_type": "code",
   "execution_count": 8,
   "metadata": {},
   "outputs": [
    {
     "name": "stdout",
     "output_type": "stream",
     "text": [
      "Graph with 100 nodes and 1522 edges\n"
     ]
    }
   ],
   "source": [
    "G=create_network_t1(paths,count,number)\n",
    "print(G)"
   ]
  },
  {
   "cell_type": "markdown",
   "metadata": {},
   "source": [
    "## Load Graph for t > 1"
   ]
  },
  {
   "cell_type": "code",
   "execution_count": 10,
   "metadata": {},
   "outputs": [],
   "source": [
    "def create_network_t(paths:list,t:int,run:int):\n",
    "    G=None\n",
    "    for i in range(t):\n",
    "        edgelist=paths[run][i]\n",
    "        g=nx.read_edgelist(edgelist)\n",
    "        if G is None:\n",
    "            G=g\n",
    "        else:\n",
    "            G=nx.compose(G,g)\n",
    "    return G"
   ]
  },
  {
   "cell_type": "code",
   "execution_count": 12,
   "metadata": {},
   "outputs": [
    {
     "name": "stdout",
     "output_type": "stream",
     "text": [
      "Graph with 100 nodes and 3133 edges\n"
     ]
    }
   ],
   "source": [
    "G=create_network_t(paths,4,3)\n",
    "print(G)"
   ]
  },
  {
   "cell_type": "markdown",
   "metadata": {},
   "source": [
    "# Sparsity/Clustering"
   ]
  },
  {
   "cell_type": "code",
   "execution_count": 5,
   "metadata": {},
   "outputs": [
    {
     "data": {
      "text/plain": [
       "0.2972527536619025"
      ]
     },
     "execution_count": 5,
     "metadata": {},
     "output_type": "execute_result"
    }
   ],
   "source": [
    "nx.average_clustering(G)"
   ]
  }
 ],
 "metadata": {
  "kernelspec": {
   "display_name": "env",
   "language": "python",
   "name": "python3"
  },
  "language_info": {
   "codemirror_mode": {
    "name": "ipython",
    "version": 3
   },
   "file_extension": ".py",
   "mimetype": "text/x-python",
   "name": "python",
   "nbconvert_exporter": "python",
   "pygments_lexer": "ipython3",
   "version": "3.11.2"
  },
  "orig_nbformat": 4
 },
 "nbformat": 4,
 "nbformat_minor": 2
}
