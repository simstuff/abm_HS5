{
 "cells": [
  {
   "cell_type": "code",
   "execution_count": 6,
   "metadata": {},
   "outputs": [],
   "source": [
    "import networkx as nx\n",
    "import os\n",
    "\n",
    "path=\"/home/niklas/Documents/Studium_Uni_Bamberg/Semester4/PWM-PT-HS5/data\"\n",
    "\n",
    "def load_graphs(path):\n",
    "    path_list=[]\n",
    "    for folder in os.listdir(path):\n",
    "        for file in os.listdir(os.path.join(path,folder)):\n",
    "            path_list.append(os.path.join(path,folder,file))\n",
    "    return path_list"
   ]
  },
  {
   "cell_type": "code",
   "execution_count": 10,
   "metadata": {},
   "outputs": [],
   "source": [
    "paths=load_graphs(path)\n",
    "\n",
    "count=0\n",
    "\n",
    "def create_network(paths:list,count:int):\n",
    "    G=nx.read_edgelist(paths[count])\n",
    "    return G"
   ]
  },
  {
   "cell_type": "code",
   "execution_count": null,
   "metadata": {},
   "outputs": [],
   "source": []
  }
 ],
 "metadata": {
  "kernelspec": {
   "display_name": "env",
   "language": "python",
   "name": "python3"
  },
  "language_info": {
   "codemirror_mode": {
    "name": "ipython",
    "version": 3
   },
   "file_extension": ".py",
   "mimetype": "text/x-python",
   "name": "python",
   "nbconvert_exporter": "python",
   "pygments_lexer": "ipython3",
   "version": "3.11.2"
  },
  "orig_nbformat": 4
 },
 "nbformat": 4,
 "nbformat_minor": 2
}
