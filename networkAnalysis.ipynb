{
 "cells": [
  {
   "cell_type": "code",
   "execution_count": 61,
   "metadata": {},
   "outputs": [],
   "source": [
    "import os\n",
    "import glob\n",
    "\n",
    "path=\"/home/niklas/Documents/Studium_Uni_Bamberg/Semester4/PWM-PT-HS5/data\"\n",
    "\n",
    "def load_graphs(path):\n",
    "    path_list=[]\n",
    "    for folder in os.listdir(path):\n",
    "        os.chdir(path)\n",
    "        path_list.append(glob.glob(os.path.join(path,folder,'*.{}'.format(\"edgelist\"))))      \n",
    "    return path_list\n",
    "\n"
   ]
  },
  {
   "cell_type": "code",
   "execution_count": 74,
   "metadata": {},
   "outputs": [],
   "source": [
    "import networkx as nx\n",
    "\n",
    "paths=load_graphs(path)\n",
    "count=len(paths[0])\n",
    "number=len(paths)\n",
    "\n",
    "def create_network(paths:list,count:int,number:int):\n",
    "    G=nx.read_edgelist(paths[number-1][count-1])\n",
    "    return G"
   ]
  },
  {
   "cell_type": "code",
   "execution_count": 77,
   "metadata": {},
   "outputs": [
    {
     "name": "stdout",
     "output_type": "stream",
     "text": [
      "Graph with 100 nodes and 2448 edges\n"
     ]
    }
   ],
   "source": [
    "while number>0:\n",
    "    G=create_network(paths,count,number)\n",
    "    print(G)"
   ]
  }
 ],
 "metadata": {
  "kernelspec": {
   "display_name": "env",
   "language": "python",
   "name": "python3"
  },
  "language_info": {
   "codemirror_mode": {
    "name": "ipython",
    "version": 3
   },
   "file_extension": ".py",
   "mimetype": "text/x-python",
   "name": "python",
   "nbconvert_exporter": "python",
   "pygments_lexer": "ipython3",
   "version": "3.11.2"
  },
  "orig_nbformat": 4
 },
 "nbformat": 4,
 "nbformat_minor": 2
}
