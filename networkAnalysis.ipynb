{
 "cells": [
  {
   "cell_type": "markdown",
   "metadata": {},
   "source": [
    "# Load Graphs"
   ]
  },
  {
   "cell_type": "code",
   "execution_count": 2,
   "metadata": {},
   "outputs": [],
   "source": [
    "import os\n",
    "import glob\n",
    "\n",
    "path=\"/home/niklas/Documents/Studium_Uni_Bamberg/Semester4/PWM-PT-HS5/data\"\n",
    "\n",
    "def load_graphs(path):\n",
    "    path_list=[]\n",
    "    for folder in os.listdir(path):\n",
    "        os.chdir(path)\n",
    "        path_list.append(glob.glob(os.path.join(path,folder,'*.{}'.format(\"edgelist\"))))      \n",
    "    return path_list\n",
    "\n"
   ]
  },
  {
   "cell_type": "markdown",
   "metadata": {},
   "source": [
    "## Load Graph for t=1"
   ]
  },
  {
   "cell_type": "code",
   "execution_count": 48,
   "metadata": {},
   "outputs": [
    {
     "ename": "OSError",
     "evalue": "[Errno 36] File name too long: '/home/niklas/Documents/Studium_Uni_Bamberg/Semester4/PWM-PT-HS5/data/1/98_graph_data.edgelist%s/home/niklas/Documents/Studium_Uni_Bamberg/Semester4/PWM-PT-HS5/data/1/39_graph_data.edgelist%s/home/niklas/Documents/Studium_Uni_Bamberg/Semester4/PWM-PT-HS5/data/1/45_graph_data.edgelist%s/home/niklas/Documents/Studium_Uni_Bamberg/Semester4/PWM-PT-HS5/data/1/51_graph_data.edgelist%s/home/niklas/Documents/Studium_Uni_Bamberg/Semester4/PWM-PT-HS5/data/1/67_graph_data.edgelist%s/home/niklas/Documents/Studium_Uni_Bamberg/Semester4/PWM-PT-HS5/data/1/31_graph_data.edgelist%s/home/niklas/Documents/Studium_Uni_Bamberg/Semester4/PWM-PT-HS5/data/1/11_graph_data.edgelist%s/home/niklas/Documents/Studium_Uni_Bamberg/Semester4/PWM-PT-HS5/data/1/9_graph_data.edgelist%s/home/niklas/Documents/Studium_Uni_Bamberg/Semester4/PWM-PT-HS5/data/1/24_graph_data.edgelist%s/home/niklas/Documents/Studium_Uni_Bamberg/Semester4/PWM-PT-HS5/data/1/76_graph_data.edgelist%s/home/niklas/Documents/Studium_Uni_Bamberg/Semester4/PWM-PT-HS5/data/1/50_graph_data.edgelist%s/home/niklas/Documents/Studium_Uni_Bamberg/Semester4/PWM-PT-HS5/data/1/23_graph_data.edgelist%s/home/niklas/Documents/Studium_Uni_Bamberg/Semester4/PWM-PT-HS5/data/1/21_graph_data.edgelist%s/home/niklas/Documents/Studium_Uni_Bamberg/Semester4/PWM-PT-HS5/data/1/59_graph_data.edgelist%s/home/niklas/Documents/Studium_Uni_Bamberg/Semester4/PWM-PT-HS5/data/1/48_graph_data.edgelist%s/home/niklas/Documents/Studium_Uni_Bamberg/Semester4/PWM-PT-HS5/data/1/43_graph_data.edgelist%s/home/niklas/Documents/Studium_Uni_Bamberg/Semester4/PWM-PT-HS5/data/1/79_graph_data.edgelist%s/home/niklas/Documents/Studium_Uni_Bamberg/Semester4/PWM-PT-HS5/data/1/13_graph_data.edgelist%s/home/niklas/Documents/Studium_Uni_Bamberg/Semester4/PWM-PT-HS5/data/1/84_graph_data.edgelist%s/home/niklas/Documents/Studium_Uni_Bamberg/Semester4/PWM-PT-HS5/data/1/26_graph_data.edgelist%s/home/niklas/Documents/Studium_Uni_Bamberg/Semester4/PWM-PT-HS5/data/1/83_graph_data.edgelist%s/home/niklas/Documents/Studium_Uni_Bamberg/Semester4/PWM-PT-HS5/data/1/0_graph_data.edgelist%s/home/niklas/Documents/Studium_Uni_Bamberg/Semester4/PWM-PT-HS5/data/1/92_graph_data.edgelist%s/home/niklas/Documents/Studium_Uni_Bamberg/Semester4/PWM-PT-HS5/data/1/33_graph_data.edgelist%s/home/niklas/Documents/Studium_Uni_Bamberg/Semester4/PWM-PT-HS5/data/1/42_graph_data.edgelist%s/home/niklas/Documents/Studium_Uni_Bamberg/Semester4/PWM-PT-HS5/data/1/94_graph_data.edgelist%s/home/niklas/Documents/Studium_Uni_Bamberg/Semester4/PWM-PT-HS5/data/1/53_graph_data.edgelist%s/home/niklas/Documents/Studium_Uni_Bamberg/Semester4/PWM-PT-HS5/data/1/22_graph_data.edgelist%s/home/niklas/Documents/Studium_Uni_Bamberg/Semester4/PWM-PT-HS5/data/1/66_graph_data.edgelist%s/home/niklas/Documents/Studium_Uni_Bamberg/Semester4/PWM-PT-HS5/data/1/12_graph_data.edgelist%s/home/niklas/Documents/Studium_Uni_Bamberg/Semester4/PWM-PT-HS5/data/1/89_graph_data.edgelist%s/home/niklas/Documents/Studium_Uni_Bamberg/Semester4/PWM-PT-HS5/data/1/49_graph_data.edgelist%s/home/niklas/Documents/Studium_Uni_Bamberg/Semester4/PWM-PT-HS5/data/1/63_graph_data.edgelist%s/home/niklas/Documents/Studium_Uni_Bamberg/Semester4/PWM-PT-HS5/data/1/18_graph_data.edgelist%s/home/niklas/Documents/Studium_Uni_Bamberg/Semester4/PWM-PT-HS5/data/1/5_graph_data.edgelist%s/home/niklas/Documents/Studium_Uni_Bamberg/Semester4/PWM-PT-HS5/data/1/78_graph_data.edgelist%s/home/niklas/Documents/Studium_Uni_Bamberg/Semester4/PWM-PT-HS5/data/1/32_graph_data.edgelist%s/home/niklas/Documents/Studium_Uni_Bamberg/Semester4/PWM-PT-HS5/data/1/16_graph_data.edgelist%s/home/niklas/Documents/Studium_Uni_Bamberg/Semester4/PWM-PT-HS5/data/1/27_graph_data.edgelist%s/home/niklas/Documents/Studium_Uni_Bamberg/Semester4/PWM-PT-HS5/data/1/58_graph_data.edgelist%s/home/niklas/Documents/Studium_Uni_Bamberg/Semester4/PWM-PT-HS5/data/1/37_graph_data.edgelist%s/home/niklas/Documents/Studium_Uni_Bamberg/Semester4/PWM-PT-HS5/data/1/85_graph_data.edgelist%s/home/niklas/Documents/Studium_Uni_Bamberg/Semester4/PWM-PT-HS5/data/1/38_graph_data.edgelist%s/home/niklas/Documents/Studium_Uni_Bamberg/Semester4/PWM-PT-HS5/data/1/10_graph_data.edgelist%s/home/niklas/Documents/Studium_Uni_Bamberg/Semester4/PWM-PT-HS5/data/1/17_graph_data.edgelist%s/home/niklas/Documents/Studium_Uni_Bamberg/Semester4/PWM-PT-HS5/data/1/73_graph_data.edgelist%s/home/niklas/Documents/Studium_Uni_Bamberg/Semester4/PWM-PT-HS5/data/1/54_graph_data.edgelist%s/home/niklas/Documents/Studium_Uni_Bamberg/Semester4/PWM-PT-HS5/data/1/7_graph_data.edgelist%s/home/niklas/Documents/Studium_Uni_Bamberg/Semester4/PWM-PT-HS5/data/1/47_graph_data.edgelist%s/home/niklas/Documents/Studium_Uni_Bamberg/Semester4/PWM-PT-HS5/data/1/4_graph_data.edgelist%s/home/niklas/Documents/Studium_Uni_Bamberg/Semester4/PWM-PT-HS5/data/1/87_graph_data.edgelist%s/home/niklas/Documents/Studium_Uni_Bamberg/Semester4/PWM-PT-HS5/data/1/19_graph_data.edgelist%s/home/niklas/Documents/Studium_Uni_Bamberg/Semester4/PWM-PT-HS5/data/1/86_graph_data.edgelist%s/home/niklas/Documents/Studium_Uni_Bamberg/Semester4/PWM-PT-HS5/data/1/56_graph_data.edgelist%s/home/niklas/Documents/Studium_Uni_Bamberg/Semester4/PWM-PT-HS5/data/1/77_graph_data.edgelist%s/home/niklas/Documents/Studium_Uni_Bamberg/Semester4/PWM-PT-HS5/data/1/52_graph_data.edgelist%s/home/niklas/Documents/Studium_Uni_Bamberg/Semester4/PWM-PT-HS5/data/1/69_graph_data.edgelist%s/home/niklas/Documents/Studium_Uni_Bamberg/Semester4/PWM-PT-HS5/data/1/75_graph_data.edgelist%s/home/niklas/Documents/Studium_Uni_Bamberg/Semester4/PWM-PT-HS5/data/1/25_graph_data.edgelist%s/home/niklas/Documents/Studium_Uni_Bamberg/Semester4/PWM-PT-HS5/data/1/70_graph_data.edgelist%s/home/niklas/Documents/Studium_Uni_Bamberg/Semester4/PWM-PT-HS5/data/1/81_graph_data.edgelist%s/home/niklas/Documents/Studium_Uni_Bamberg/Semester4/PWM-PT-HS5/data/1/61_graph_data.edgelist%s/home/niklas/Documents/Studium_Uni_Bamberg/Semester4/PWM-PT-HS5/data/1/1_graph_data.edgelist%s/home/niklas/Documents/Studium_Uni_Bamberg/Semester4/PWM-PT-HS5/data/1/71_graph_data.edgelist%s/home/niklas/Documents/Studium_Uni_Bamberg/Semester4/PWM-PT-HS5/data/1/95_graph_data.edgelist%s/home/niklas/Documents/Studium_Uni_Bamberg/Semester4/PWM-PT-HS5/data/1/96_graph_data.edgelist%s/home/niklas/Documents/Studium_Uni_Bamberg/Semester4/PWM-PT-HS5/data/1/8_graph_data.edgelist%s/home/niklas/Documents/Studium_Uni_Bamberg/Semester4/PWM-PT-HS5/data/1/28_graph_data.edgelist%s/home/niklas/Documents/Studium_Uni_Bamberg/Semester4/PWM-PT-HS5/data/1/46_graph_data.edgelist%s/home/niklas/Documents/Studium_Uni_Bamberg/Semester4/PWM-PT-HS5/data/1/20_graph_data.edgelist%s/home/niklas/Documents/Studium_Uni_Bamberg/Semester4/PWM-PT-HS5/data/1/88_graph_data.edgelist%s/home/niklas/Documents/Studium_Uni_Bamberg/Semester4/PWM-PT-HS5/data/1/93_graph_data.edgelist%s/home/niklas/Documents/Studium_Uni_Bamberg/Semester4/PWM-PT-HS5/data/1/90_graph_data.edgelist%s/home/niklas/Documents/Studium_Uni_Bamberg/Semester4/PWM-PT-HS5/data/1/40_graph_data.edgelist%s/home/niklas/Documents/Studium_Uni_Bamberg/Semester4/PWM-PT-HS5/data/1/3_graph_data.edgelist%s/home/niklas/Documents/Studium_Uni_Bamberg/Semester4/PWM-PT-HS5/data/1/72_graph_data.edgelist%s/home/niklas/Documents/Studium_Uni_Bamberg/Semester4/PWM-PT-HS5/data/1/65_graph_data.edgelist%s/home/niklas/Documents/Studium_Uni_Bamberg/Semester4/PWM-PT-HS5/data/1/34_graph_data.edgelist%s/home/niklas/Documents/Studium_Uni_Bamberg/Semester4/PWM-PT-HS5/data/1/74_graph_data.edgelist%s/home/niklas/Documents/Studium_Uni_Bamberg/Semester4/PWM-PT-HS5/data/1/2_graph_data.edgelist%s/home/niklas/Documents/Studium_Uni_Bamberg/Semester4/PWM-PT-HS5/data/1/91_graph_data.edgelist%s/home/niklas/Documents/Studium_Uni_Bamberg/Semester4/PWM-PT-HS5/data/1/41_graph_data.edgelist%s/home/niklas/Documents/Studium_Uni_Bamberg/Semester4/PWM-PT-HS5/data/1/60_graph_data.edgelist%s/home/niklas/Documents/Studium_Uni_Bamberg/Semester4/PWM-PT-HS5/data/1/14_graph_data.edgelist%s/home/niklas/Documents/Studium_Uni_Bamberg/Semester4/PWM-PT-HS5/data/1/97_graph_data.edgelist%s/home/niklas/Documents/Studium_Uni_Bamberg/Semester4/PWM-PT-HS5/data/1/57_graph_data.edgelist%s/home/niklas/Documents/Studium_Uni_Bamberg/Semester4/PWM-PT-HS5/data/1/82_graph_data.edgelist%s/home/niklas/Documents/Studium_Uni_Bamberg/Semester4/PWM-PT-HS5/data/1/15_graph_data.edgelist%s/home/niklas/Documents/Studium_Uni_Bamberg/Semester4/PWM-PT-HS5/data/1/30_graph_data.edgelist%s/home/niklas/Documents/Studium_Uni_Bamberg/Semester4/PWM-PT-HS5/data/1/62_graph_data.edgelist%s/home/niklas/Documents/Studium_Uni_Bamberg/Semester4/PWM-PT-HS5/data/1/6_graph_data.edgelist%s/home/niklas/Documents/Studium_Uni_Bamberg/Semester4/PWM-PT-HS5/data/1/80_graph_data.edgelist%s/home/niklas/Documents/Studium_Uni_Bamberg/Semester4/PWM-PT-HS5/data/1/64_graph_data.edgelist%s/home/niklas/Documents/Studium_Uni_Bamberg/Semester4/PWM-PT-HS5/data/1/29_graph_data.edgelist%s/home/niklas/Documents/Studium_Uni_Bamberg/Semester4/PWM-PT-HS5/data/1/55_graph_data.edgelist%s/home/niklas/Documents/Studium_Uni_Bamberg/Semester4/PWM-PT-HS5/data/1/35_graph_data.edgelist%s/home/niklas/Documents/Studium_Uni_Bamberg/Semester4/PWM-PT-HS5/data/1/44_graph_data.edgelist%s/home/niklas/Documents/Studium_Uni_Bamberg/Semester4/PWM-PT-HS5/data/1/99_graph_data.edgelist%s/home/niklas/Documents/Studium_Uni_Bamberg/Semester4/PWM-PT-HS5/data/1/68_graph_data.edgelist%s/home/niklas/Documents/Studium_Uni_Bamberg/Semester4/PWM-PT-HS5/data/1/36_graph_data.edgelist'",
     "output_type": "error",
     "traceback": [
      "\u001b[0;31m---------------------------------------------------------------------------\u001b[0m",
      "\u001b[0;31mOSError\u001b[0m                                   Traceback (most recent call last)",
      "Cell \u001b[0;32mIn[48], line 3\u001b[0m\n\u001b[1;32m      1\u001b[0m \u001b[39mimport\u001b[39;00m \u001b[39mnetworkx\u001b[39;00m \u001b[39mas\u001b[39;00m \u001b[39mnx\u001b[39;00m\n\u001b[0;32m----> 3\u001b[0m paths\u001b[39m=\u001b[39mload_graphs(path)\n\u001b[1;32m      4\u001b[0m count\u001b[39m=\u001b[39m\u001b[39mlen\u001b[39m(paths[\u001b[39m0\u001b[39m])\n\u001b[1;32m      5\u001b[0m number\u001b[39m=\u001b[39m\u001b[39mlen\u001b[39m(paths)\n",
      "Cell \u001b[0;32mIn[2], line 8\u001b[0m, in \u001b[0;36mload_graphs\u001b[0;34m(path)\u001b[0m\n\u001b[1;32m      6\u001b[0m \u001b[39mdef\u001b[39;00m \u001b[39mload_graphs\u001b[39m(path):\n\u001b[1;32m      7\u001b[0m     path_list\u001b[39m=\u001b[39m[]\n\u001b[0;32m----> 8\u001b[0m     \u001b[39mfor\u001b[39;00m folder \u001b[39min\u001b[39;00m os\u001b[39m.\u001b[39mlistdir(path):\n\u001b[1;32m      9\u001b[0m         os\u001b[39m.\u001b[39mchdir(path)\n\u001b[1;32m     10\u001b[0m         path_list\u001b[39m.\u001b[39mappend(glob\u001b[39m.\u001b[39mglob(os\u001b[39m.\u001b[39mpath\u001b[39m.\u001b[39mjoin(path,folder,\u001b[39m'\u001b[39m\u001b[39m*.\u001b[39m\u001b[39m{}\u001b[39;00m\u001b[39m'\u001b[39m\u001b[39m.\u001b[39mformat(\u001b[39m\"\u001b[39m\u001b[39medgelist\u001b[39m\u001b[39m\"\u001b[39m))))      \n",
      "\u001b[0;31mOSError\u001b[0m: [Errno 36] File name too long: '/home/niklas/Documents/Studium_Uni_Bamberg/Semester4/PWM-PT-HS5/data/1/98_graph_data.edgelist%s/home/niklas/Documents/Studium_Uni_Bamberg/Semester4/PWM-PT-HS5/data/1/39_graph_data.edgelist%s/home/niklas/Documents/Studium_Uni_Bamberg/Semester4/PWM-PT-HS5/data/1/45_graph_data.edgelist%s/home/niklas/Documents/Studium_Uni_Bamberg/Semester4/PWM-PT-HS5/data/1/51_graph_data.edgelist%s/home/niklas/Documents/Studium_Uni_Bamberg/Semester4/PWM-PT-HS5/data/1/67_graph_data.edgelist%s/home/niklas/Documents/Studium_Uni_Bamberg/Semester4/PWM-PT-HS5/data/1/31_graph_data.edgelist%s/home/niklas/Documents/Studium_Uni_Bamberg/Semester4/PWM-PT-HS5/data/1/11_graph_data.edgelist%s/home/niklas/Documents/Studium_Uni_Bamberg/Semester4/PWM-PT-HS5/data/1/9_graph_data.edgelist%s/home/niklas/Documents/Studium_Uni_Bamberg/Semester4/PWM-PT-HS5/data/1/24_graph_data.edgelist%s/home/niklas/Documents/Studium_Uni_Bamberg/Semester4/PWM-PT-HS5/data/1/76_graph_data.edgelist%s/home/niklas/Documents/Studium_Uni_Bamberg/Semester4/PWM-PT-HS5/data/1/50_graph_data.edgelist%s/home/niklas/Documents/Studium_Uni_Bamberg/Semester4/PWM-PT-HS5/data/1/23_graph_data.edgelist%s/home/niklas/Documents/Studium_Uni_Bamberg/Semester4/PWM-PT-HS5/data/1/21_graph_data.edgelist%s/home/niklas/Documents/Studium_Uni_Bamberg/Semester4/PWM-PT-HS5/data/1/59_graph_data.edgelist%s/home/niklas/Documents/Studium_Uni_Bamberg/Semester4/PWM-PT-HS5/data/1/48_graph_data.edgelist%s/home/niklas/Documents/Studium_Uni_Bamberg/Semester4/PWM-PT-HS5/data/1/43_graph_data.edgelist%s/home/niklas/Documents/Studium_Uni_Bamberg/Semester4/PWM-PT-HS5/data/1/79_graph_data.edgelist%s/home/niklas/Documents/Studium_Uni_Bamberg/Semester4/PWM-PT-HS5/data/1/13_graph_data.edgelist%s/home/niklas/Documents/Studium_Uni_Bamberg/Semester4/PWM-PT-HS5/data/1/84_graph_data.edgelist%s/home/niklas/Documents/Studium_Uni_Bamberg/Semester4/PWM-PT-HS5/data/1/26_graph_data.edgelist%s/home/niklas/Documents/Studium_Uni_Bamberg/Semester4/PWM-PT-HS5/data/1/83_graph_data.edgelist%s/home/niklas/Documents/Studium_Uni_Bamberg/Semester4/PWM-PT-HS5/data/1/0_graph_data.edgelist%s/home/niklas/Documents/Studium_Uni_Bamberg/Semester4/PWM-PT-HS5/data/1/92_graph_data.edgelist%s/home/niklas/Documents/Studium_Uni_Bamberg/Semester4/PWM-PT-HS5/data/1/33_graph_data.edgelist%s/home/niklas/Documents/Studium_Uni_Bamberg/Semester4/PWM-PT-HS5/data/1/42_graph_data.edgelist%s/home/niklas/Documents/Studium_Uni_Bamberg/Semester4/PWM-PT-HS5/data/1/94_graph_data.edgelist%s/home/niklas/Documents/Studium_Uni_Bamberg/Semester4/PWM-PT-HS5/data/1/53_graph_data.edgelist%s/home/niklas/Documents/Studium_Uni_Bamberg/Semester4/PWM-PT-HS5/data/1/22_graph_data.edgelist%s/home/niklas/Documents/Studium_Uni_Bamberg/Semester4/PWM-PT-HS5/data/1/66_graph_data.edgelist%s/home/niklas/Documents/Studium_Uni_Bamberg/Semester4/PWM-PT-HS5/data/1/12_graph_data.edgelist%s/home/niklas/Documents/Studium_Uni_Bamberg/Semester4/PWM-PT-HS5/data/1/89_graph_data.edgelist%s/home/niklas/Documents/Studium_Uni_Bamberg/Semester4/PWM-PT-HS5/data/1/49_graph_data.edgelist%s/home/niklas/Documents/Studium_Uni_Bamberg/Semester4/PWM-PT-HS5/data/1/63_graph_data.edgelist%s/home/niklas/Documents/Studium_Uni_Bamberg/Semester4/PWM-PT-HS5/data/1/18_graph_data.edgelist%s/home/niklas/Documents/Studium_Uni_Bamberg/Semester4/PWM-PT-HS5/data/1/5_graph_data.edgelist%s/home/niklas/Documents/Studium_Uni_Bamberg/Semester4/PWM-PT-HS5/data/1/78_graph_data.edgelist%s/home/niklas/Documents/Studium_Uni_Bamberg/Semester4/PWM-PT-HS5/data/1/32_graph_data.edgelist%s/home/niklas/Documents/Studium_Uni_Bamberg/Semester4/PWM-PT-HS5/data/1/16_graph_data.edgelist%s/home/niklas/Documents/Studium_Uni_Bamberg/Semester4/PWM-PT-HS5/data/1/27_graph_data.edgelist%s/home/niklas/Documents/Studium_Uni_Bamberg/Semester4/PWM-PT-HS5/data/1/58_graph_data.edgelist%s/home/niklas/Documents/Studium_Uni_Bamberg/Semester4/PWM-PT-HS5/data/1/37_graph_data.edgelist%s/home/niklas/Documents/Studium_Uni_Bamberg/Semester4/PWM-PT-HS5/data/1/85_graph_data.edgelist%s/home/niklas/Documents/Studium_Uni_Bamberg/Semester4/PWM-PT-HS5/data/1/38_graph_data.edgelist%s/home/niklas/Documents/Studium_Uni_Bamberg/Semester4/PWM-PT-HS5/data/1/10_graph_data.edgelist%s/home/niklas/Documents/Studium_Uni_Bamberg/Semester4/PWM-PT-HS5/data/1/17_graph_data.edgelist%s/home/niklas/Documents/Studium_Uni_Bamberg/Semester4/PWM-PT-HS5/data/1/73_graph_data.edgelist%s/home/niklas/Documents/Studium_Uni_Bamberg/Semester4/PWM-PT-HS5/data/1/54_graph_data.edgelist%s/home/niklas/Documents/Studium_Uni_Bamberg/Semester4/PWM-PT-HS5/data/1/7_graph_data.edgelist%s/home/niklas/Documents/Studium_Uni_Bamberg/Semester4/PWM-PT-HS5/data/1/47_graph_data.edgelist%s/home/niklas/Documents/Studium_Uni_Bamberg/Semester4/PWM-PT-HS5/data/1/4_graph_data.edgelist%s/home/niklas/Documents/Studium_Uni_Bamberg/Semester4/PWM-PT-HS5/data/1/87_graph_data.edgelist%s/home/niklas/Documents/Studium_Uni_Bamberg/Semester4/PWM-PT-HS5/data/1/19_graph_data.edgelist%s/home/niklas/Documents/Studium_Uni_Bamberg/Semester4/PWM-PT-HS5/data/1/86_graph_data.edgelist%s/home/niklas/Documents/Studium_Uni_Bamberg/Semester4/PWM-PT-HS5/data/1/56_graph_data.edgelist%s/home/niklas/Documents/Studium_Uni_Bamberg/Semester4/PWM-PT-HS5/data/1/77_graph_data.edgelist%s/home/niklas/Documents/Studium_Uni_Bamberg/Semester4/PWM-PT-HS5/data/1/52_graph_data.edgelist%s/home/niklas/Documents/Studium_Uni_Bamberg/Semester4/PWM-PT-HS5/data/1/69_graph_data.edgelist%s/home/niklas/Documents/Studium_Uni_Bamberg/Semester4/PWM-PT-HS5/data/1/75_graph_data.edgelist%s/home/niklas/Documents/Studium_Uni_Bamberg/Semester4/PWM-PT-HS5/data/1/25_graph_data.edgelist%s/home/niklas/Documents/Studium_Uni_Bamberg/Semester4/PWM-PT-HS5/data/1/70_graph_data.edgelist%s/home/niklas/Documents/Studium_Uni_Bamberg/Semester4/PWM-PT-HS5/data/1/81_graph_data.edgelist%s/home/niklas/Documents/Studium_Uni_Bamberg/Semester4/PWM-PT-HS5/data/1/61_graph_data.edgelist%s/home/niklas/Documents/Studium_Uni_Bamberg/Semester4/PWM-PT-HS5/data/1/1_graph_data.edgelist%s/home/niklas/Documents/Studium_Uni_Bamberg/Semester4/PWM-PT-HS5/data/1/71_graph_data.edgelist%s/home/niklas/Documents/Studium_Uni_Bamberg/Semester4/PWM-PT-HS5/data/1/95_graph_data.edgelist%s/home/niklas/Documents/Studium_Uni_Bamberg/Semester4/PWM-PT-HS5/data/1/96_graph_data.edgelist%s/home/niklas/Documents/Studium_Uni_Bamberg/Semester4/PWM-PT-HS5/data/1/8_graph_data.edgelist%s/home/niklas/Documents/Studium_Uni_Bamberg/Semester4/PWM-PT-HS5/data/1/28_graph_data.edgelist%s/home/niklas/Documents/Studium_Uni_Bamberg/Semester4/PWM-PT-HS5/data/1/46_graph_data.edgelist%s/home/niklas/Documents/Studium_Uni_Bamberg/Semester4/PWM-PT-HS5/data/1/20_graph_data.edgelist%s/home/niklas/Documents/Studium_Uni_Bamberg/Semester4/PWM-PT-HS5/data/1/88_graph_data.edgelist%s/home/niklas/Documents/Studium_Uni_Bamberg/Semester4/PWM-PT-HS5/data/1/93_graph_data.edgelist%s/home/niklas/Documents/Studium_Uni_Bamberg/Semester4/PWM-PT-HS5/data/1/90_graph_data.edgelist%s/home/niklas/Documents/Studium_Uni_Bamberg/Semester4/PWM-PT-HS5/data/1/40_graph_data.edgelist%s/home/niklas/Documents/Studium_Uni_Bamberg/Semester4/PWM-PT-HS5/data/1/3_graph_data.edgelist%s/home/niklas/Documents/Studium_Uni_Bamberg/Semester4/PWM-PT-HS5/data/1/72_graph_data.edgelist%s/home/niklas/Documents/Studium_Uni_Bamberg/Semester4/PWM-PT-HS5/data/1/65_graph_data.edgelist%s/home/niklas/Documents/Studium_Uni_Bamberg/Semester4/PWM-PT-HS5/data/1/34_graph_data.edgelist%s/home/niklas/Documents/Studium_Uni_Bamberg/Semester4/PWM-PT-HS5/data/1/74_graph_data.edgelist%s/home/niklas/Documents/Studium_Uni_Bamberg/Semester4/PWM-PT-HS5/data/1/2_graph_data.edgelist%s/home/niklas/Documents/Studium_Uni_Bamberg/Semester4/PWM-PT-HS5/data/1/91_graph_data.edgelist%s/home/niklas/Documents/Studium_Uni_Bamberg/Semester4/PWM-PT-HS5/data/1/41_graph_data.edgelist%s/home/niklas/Documents/Studium_Uni_Bamberg/Semester4/PWM-PT-HS5/data/1/60_graph_data.edgelist%s/home/niklas/Documents/Studium_Uni_Bamberg/Semester4/PWM-PT-HS5/data/1/14_graph_data.edgelist%s/home/niklas/Documents/Studium_Uni_Bamberg/Semester4/PWM-PT-HS5/data/1/97_graph_data.edgelist%s/home/niklas/Documents/Studium_Uni_Bamberg/Semester4/PWM-PT-HS5/data/1/57_graph_data.edgelist%s/home/niklas/Documents/Studium_Uni_Bamberg/Semester4/PWM-PT-HS5/data/1/82_graph_data.edgelist%s/home/niklas/Documents/Studium_Uni_Bamberg/Semester4/PWM-PT-HS5/data/1/15_graph_data.edgelist%s/home/niklas/Documents/Studium_Uni_Bamberg/Semester4/PWM-PT-HS5/data/1/30_graph_data.edgelist%s/home/niklas/Documents/Studium_Uni_Bamberg/Semester4/PWM-PT-HS5/data/1/62_graph_data.edgelist%s/home/niklas/Documents/Studium_Uni_Bamberg/Semester4/PWM-PT-HS5/data/1/6_graph_data.edgelist%s/home/niklas/Documents/Studium_Uni_Bamberg/Semester4/PWM-PT-HS5/data/1/80_graph_data.edgelist%s/home/niklas/Documents/Studium_Uni_Bamberg/Semester4/PWM-PT-HS5/data/1/64_graph_data.edgelist%s/home/niklas/Documents/Studium_Uni_Bamberg/Semester4/PWM-PT-HS5/data/1/29_graph_data.edgelist%s/home/niklas/Documents/Studium_Uni_Bamberg/Semester4/PWM-PT-HS5/data/1/55_graph_data.edgelist%s/home/niklas/Documents/Studium_Uni_Bamberg/Semester4/PWM-PT-HS5/data/1/35_graph_data.edgelist%s/home/niklas/Documents/Studium_Uni_Bamberg/Semester4/PWM-PT-HS5/data/1/44_graph_data.edgelist%s/home/niklas/Documents/Studium_Uni_Bamberg/Semester4/PWM-PT-HS5/data/1/99_graph_data.edgelist%s/home/niklas/Documents/Studium_Uni_Bamberg/Semester4/PWM-PT-HS5/data/1/68_graph_data.edgelist%s/home/niklas/Documents/Studium_Uni_Bamberg/Semester4/PWM-PT-HS5/data/1/36_graph_data.edgelist'"
     ]
    }
   ],
   "source": [
    "import networkx as nx\n",
    "\n",
    "paths=load_graphs(path)\n",
    "count=len(paths[0])\n",
    "number=len(paths)\n",
    "\n",
    "def create_network_t1(paths:list,count:int,number:int):\n",
    "    edgelist=paths[number-1][count-1]\n",
    "    G=nx.read_edgelist(edgelist,create_using=nx.DiGraph)\n",
    "    return G\n"
   ]
  },
  {
   "cell_type": "code",
   "execution_count": 49,
   "metadata": {},
   "outputs": [
    {
     "name": "stdout",
     "output_type": "stream",
     "text": [
      "Graph with 100 nodes and 1522 edges\n"
     ]
    }
   ],
   "source": [
    "G=create_network_t1(paths,count,number)\n",
    "print(G)"
   ]
  },
  {
   "cell_type": "markdown",
   "metadata": {},
   "source": [
    "## Load Graph for t > 1"
   ]
  },
  {
   "cell_type": "code",
   "execution_count": 46,
   "metadata": {},
   "outputs": [],
   "source": [
    "def create_network_t(paths:list,t:int,run:int):\n",
    "    G=None\n",
    "    for i in range(t):\n",
    "        edgelist=paths[run][i]\n",
    "        g=nx.read_edgelist(edgelist,create_using=nx.DiGraph)\n",
    "        if G is None:\n",
    "            G=g\n",
    "        else:\n",
    "            G=nx.compose(G,g)\n",
    "    return G"
   ]
  },
  {
   "cell_type": "code",
   "execution_count": 55,
   "metadata": {},
   "outputs": [
    {
     "name": "stdout",
     "output_type": "stream",
     "text": [
      "DiGraph with 100 nodes and 6266 edges\n"
     ]
    },
    {
     "data": {
      "text/plain": [
       "{'0': 1.4413920914642664,\n",
       " '69': 2.78389921208891,\n",
       " '55': 0.9128981078675953,\n",
       " '7': 0.5851131029154735,\n",
       " '6': 2.6219964841904955,\n",
       " '57': -5.527009615683059,\n",
       " '94': 1.8406603280307021,\n",
       " '11': -1.2802191922493498,\n",
       " '14': -0.09189598425548984,\n",
       " '76': -1.28210181889249,\n",
       " '82': 0.7621487119765142,\n",
       " '47': 0.11117545183065719,\n",
       " '2': 0.805960089980247,\n",
       " '42': -2.4845643403243747,\n",
       " '90': -0.6213049372171883,\n",
       " '45': 0.8784049588775497,\n",
       " '71': 1.9332068294328613,\n",
       " '87': -0.16669631951023206,\n",
       " '91': -2.658761708603193,\n",
       " '98': 0.7864972767044245,\n",
       " '16': 0.6790964927551263,\n",
       " '51': -1.2785208573244131,\n",
       " '74': 0.285239997450679,\n",
       " '80': -0.39114745213865254,\n",
       " '70': 0.8411821536160731,\n",
       " '17': -1.2171560992501307,\n",
       " '40': -0.9277067295327587,\n",
       " '56': -0.18502556879120802,\n",
       " '77': 0.053192077120565825,\n",
       " '53': -0.9183626512821594,\n",
       " '48': 0.3413201022156972,\n",
       " '46': -1.9955579685130527,\n",
       " '3': 1.8136283946656242,\n",
       " '61': 1.4967996972938178,\n",
       " '84': -2.7384145142974186,\n",
       " '64': 0.5162290767976757,\n",
       " '24': 0.6771635497590439,\n",
       " '37': 0.7541358705276608,\n",
       " '99': 0.514474057473848,\n",
       " '23': 0.6610705519516064,\n",
       " '33': -2.261397901998962,\n",
       " '36': -0.42409373822935825,\n",
       " '81': -0.1677717540631536,\n",
       " '49': 2.106447762540564,\n",
       " '30': 1.1073697828667286,\n",
       " '8': -1.3961236335281193,\n",
       " '97': 1.2984278169172767,\n",
       " '4': -0.7043182038970153,\n",
       " '67': 0.2571938523361954,\n",
       " '59': -1.4754918928846261,\n",
       " '85': 1.2505897811499682,\n",
       " '89': -0.6021335976183873,\n",
       " '15': -1.8418303913639027,\n",
       " '41': 1.470849568724188,\n",
       " '26': 2.7250248139157938,\n",
       " '72': 4.079678504049325,\n",
       " '79': 0.016748073116943263,\n",
       " '20': -0.6142836530848571,\n",
       " '19': 1.237590478016948,\n",
       " '75': 0.10545670111286007,\n",
       " '27': 0.8414168135916208,\n",
       " '9': 0.46126582697455404,\n",
       " '43': -2.231626483640314,\n",
       " '1': -1.4564296011178155,\n",
       " '54': -3.8101261048757964,\n",
       " '60': -0.4026154774554251,\n",
       " '65': -1.6567782673347173,\n",
       " '66': -1.1078305896864125,\n",
       " '44': 0.6759159906622993,\n",
       " '31': 0.7793351124011181,\n",
       " '62': -1.4276680811440356,\n",
       " '39': -3.545063377792597,\n",
       " '28': -2.9982106485704447,\n",
       " '25': -6.446799764996877,\n",
       " '73': 0.44524580696550925,\n",
       " '38': 1.9029135651726186,\n",
       " '86': -0.012666784330726932,\n",
       " '58': 0.2964508200325941,\n",
       " '18': -0.7752009506714155,\n",
       " '92': 0.8906355485612204,\n",
       " '88': -1.1359794872643356,\n",
       " '22': -1.4404585972478816,\n",
       " '52': -1.2779751263610182,\n",
       " '12': 0.7361717911056261,\n",
       " '50': 2.134641566759484,\n",
       " '5': -0.016788181802845803,\n",
       " '96': 0.1127435363147592,\n",
       " '29': -4.575342771257357,\n",
       " '68': -0.0770759299405459,\n",
       " '32': -2.386778802584822,\n",
       " '63': -1.9012991150094534,\n",
       " '93': -1.6418522524242947,\n",
       " '95': -2.3303493511285214,\n",
       " '35': 2.1090767166159536,\n",
       " '34': 1.1467381030816157,\n",
       " '83': 0.010109710833531238,\n",
       " '10': -0.39152564274621726,\n",
       " '78': -0.7511984925716486,\n",
       " '21': -3.278202831258838,\n",
       " '13': -0.9510888300515629}"
      ]
     },
     "execution_count": 55,
     "metadata": {},
     "output_type": "execute_result"
    }
   ],
   "source": [
    "G=create_network_t(paths,4,3)\n",
    "print(G)\n",
    "in_degrees=dict(G.in_degree(weight=\"weight\"))\n",
    "in_degrees"
   ]
  },
  {
   "cell_type": "markdown",
   "metadata": {},
   "source": [
    "# Load model and agent data"
   ]
  },
  {
   "cell_type": "code",
   "execution_count": 18,
   "metadata": {},
   "outputs": [],
   "source": [
    "def load_agent_data(path):\n",
    "    path_list=[]\n",
    "    for folder in os.listdir(path):\n",
    "        os.chdir(path)\n",
    "        path_list.append(glob.glob(os.path.join(path,folder,'agent_data.{}'.format(\"csv\"))))      \n",
    "    return path_list\n",
    "\n",
    "agent_paths=load_agent_data(path)"
   ]
  },
  {
   "cell_type": "code",
   "execution_count": 51,
   "metadata": {},
   "outputs": [],
   "source": [
    "import pandas as pd\n",
    "\n",
    "def read_csv_t(paths:list,run:int):\n",
    "    path=\"%s\" % \"','\".join(paths[run])\n",
    "    df=pd.read_csv(path)\n",
    "    return df\n"
   ]
  },
  {
   "cell_type": "code",
   "execution_count": 52,
   "metadata": {},
   "outputs": [
    {
     "data": {
      "text/html": [
       "<div>\n",
       "<style scoped>\n",
       "    .dataframe tbody tr th:only-of-type {\n",
       "        vertical-align: middle;\n",
       "    }\n",
       "\n",
       "    .dataframe tbody tr th {\n",
       "        vertical-align: top;\n",
       "    }\n",
       "\n",
       "    .dataframe thead th {\n",
       "        text-align: right;\n",
       "    }\n",
       "</style>\n",
       "<table border=\"1\" class=\"dataframe\">\n",
       "  <thead>\n",
       "    <tr style=\"text-align: right;\">\n",
       "      <th></th>\n",
       "      <th>Step</th>\n",
       "      <th>AgentID</th>\n",
       "      <th>Info</th>\n",
       "      <th>Avg_PersonalizedTrust</th>\n",
       "      <th>GeneralizedTrust</th>\n",
       "      <th>Wealth</th>\n",
       "      <th>Suspectability</th>\n",
       "      <th>ID</th>\n",
       "      <th>SecurityLevel</th>\n",
       "      <th>Partner</th>\n",
       "      <th>Memory</th>\n",
       "      <th>Threshold</th>\n",
       "    </tr>\n",
       "  </thead>\n",
       "  <tbody>\n",
       "    <tr>\n",
       "      <th>0</th>\n",
       "      <td>2</td>\n",
       "      <td>16</td>\n",
       "      <td>0.000000</td>\n",
       "      <td>-1.701401</td>\n",
       "      <td>-1.770539</td>\n",
       "      <td>0.571352</td>\n",
       "      <td>-0.362987</td>\n",
       "      <td>16</td>\n",
       "      <td>1.021078</td>\n",
       "      <td>50</td>\n",
       "      <td>8</td>\n",
       "      <td>0.702175</td>\n",
       "    </tr>\n",
       "    <tr>\n",
       "      <th>1</th>\n",
       "      <td>2</td>\n",
       "      <td>97</td>\n",
       "      <td>0.000000</td>\n",
       "      <td>-0.295401</td>\n",
       "      <td>-0.946604</td>\n",
       "      <td>-2.976599</td>\n",
       "      <td>1.161356</td>\n",
       "      <td>97</td>\n",
       "      <td>-3.490298</td>\n",
       "      <td>90</td>\n",
       "      <td>7</td>\n",
       "      <td>0.789599</td>\n",
       "    </tr>\n",
       "    <tr>\n",
       "      <th>2</th>\n",
       "      <td>2</td>\n",
       "      <td>98</td>\n",
       "      <td>0.000000</td>\n",
       "      <td>0.216092</td>\n",
       "      <td>0.840998</td>\n",
       "      <td>-2.088441</td>\n",
       "      <td>0.279939</td>\n",
       "      <td>98</td>\n",
       "      <td>2.416611</td>\n",
       "      <td>69</td>\n",
       "      <td>8</td>\n",
       "      <td>0.673516</td>\n",
       "    </tr>\n",
       "    <tr>\n",
       "      <th>3</th>\n",
       "      <td>2</td>\n",
       "      <td>14</td>\n",
       "      <td>0.000000</td>\n",
       "      <td>-0.669487</td>\n",
       "      <td>-2.254114</td>\n",
       "      <td>-3.100177</td>\n",
       "      <td>0.203161</td>\n",
       "      <td>14</td>\n",
       "      <td>0.537178</td>\n",
       "      <td>83</td>\n",
       "      <td>7</td>\n",
       "      <td>-0.059812</td>\n",
       "    </tr>\n",
       "    <tr>\n",
       "      <th>4</th>\n",
       "      <td>2</td>\n",
       "      <td>42</td>\n",
       "      <td>0.000000</td>\n",
       "      <td>-0.566904</td>\n",
       "      <td>-0.603277</td>\n",
       "      <td>0.225669</td>\n",
       "      <td>0.146266</td>\n",
       "      <td>42</td>\n",
       "      <td>5.775998</td>\n",
       "      <td>44</td>\n",
       "      <td>4</td>\n",
       "      <td>1.123787</td>\n",
       "    </tr>\n",
       "    <tr>\n",
       "      <th>...</th>\n",
       "      <td>...</td>\n",
       "      <td>...</td>\n",
       "      <td>...</td>\n",
       "      <td>...</td>\n",
       "      <td>...</td>\n",
       "      <td>...</td>\n",
       "      <td>...</td>\n",
       "      <td>...</td>\n",
       "      <td>...</td>\n",
       "      <td>...</td>\n",
       "      <td>...</td>\n",
       "      <td>...</td>\n",
       "    </tr>\n",
       "    <tr>\n",
       "      <th>9895</th>\n",
       "      <td>100</td>\n",
       "      <td>16</td>\n",
       "      <td>-0.213922</td>\n",
       "      <td>-0.702710</td>\n",
       "      <td>-1.770539</td>\n",
       "      <td>-154.225239</td>\n",
       "      <td>-0.362987</td>\n",
       "      <td>16</td>\n",
       "      <td>1.021078</td>\n",
       "      <td>0</td>\n",
       "      <td>8</td>\n",
       "      <td>0.702175</td>\n",
       "    </tr>\n",
       "    <tr>\n",
       "      <th>9896</th>\n",
       "      <td>100</td>\n",
       "      <td>50</td>\n",
       "      <td>0.000000</td>\n",
       "      <td>-0.479525</td>\n",
       "      <td>-1.288465</td>\n",
       "      <td>-160.549927</td>\n",
       "      <td>-0.124293</td>\n",
       "      <td>50</td>\n",
       "      <td>2.072625</td>\n",
       "      <td>32</td>\n",
       "      <td>5</td>\n",
       "      <td>0.533444</td>\n",
       "    </tr>\n",
       "    <tr>\n",
       "      <th>9897</th>\n",
       "      <td>100</td>\n",
       "      <td>22</td>\n",
       "      <td>0.000000</td>\n",
       "      <td>-0.162102</td>\n",
       "      <td>-0.708870</td>\n",
       "      <td>-159.672816</td>\n",
       "      <td>0.374204</td>\n",
       "      <td>22</td>\n",
       "      <td>3.689642</td>\n",
       "      <td>6</td>\n",
       "      <td>3</td>\n",
       "      <td>0.292406</td>\n",
       "    </tr>\n",
       "    <tr>\n",
       "      <th>9898</th>\n",
       "      <td>100</td>\n",
       "      <td>60</td>\n",
       "      <td>0.593755</td>\n",
       "      <td>-0.335553</td>\n",
       "      <td>-1.131045</td>\n",
       "      <td>-161.182540</td>\n",
       "      <td>0.376700</td>\n",
       "      <td>60</td>\n",
       "      <td>11.798907</td>\n",
       "      <td>71</td>\n",
       "      <td>8</td>\n",
       "      <td>0.706331</td>\n",
       "    </tr>\n",
       "    <tr>\n",
       "      <th>9899</th>\n",
       "      <td>100</td>\n",
       "      <td>54</td>\n",
       "      <td>0.000000</td>\n",
       "      <td>0.223725</td>\n",
       "      <td>0.379090</td>\n",
       "      <td>-163.018389</td>\n",
       "      <td>0.529677</td>\n",
       "      <td>54</td>\n",
       "      <td>-3.849030</td>\n",
       "      <td>90</td>\n",
       "      <td>2</td>\n",
       "      <td>0.281508</td>\n",
       "    </tr>\n",
       "  </tbody>\n",
       "</table>\n",
       "<p>9900 rows × 12 columns</p>\n",
       "</div>"
      ],
      "text/plain": [
       "      Step  AgentID      Info  Avg_PersonalizedTrust  GeneralizedTrust  \\\n",
       "0        2       16  0.000000              -1.701401         -1.770539   \n",
       "1        2       97  0.000000              -0.295401         -0.946604   \n",
       "2        2       98  0.000000               0.216092          0.840998   \n",
       "3        2       14  0.000000              -0.669487         -2.254114   \n",
       "4        2       42  0.000000              -0.566904         -0.603277   \n",
       "...    ...      ...       ...                    ...               ...   \n",
       "9895   100       16 -0.213922              -0.702710         -1.770539   \n",
       "9896   100       50  0.000000              -0.479525         -1.288465   \n",
       "9897   100       22  0.000000              -0.162102         -0.708870   \n",
       "9898   100       60  0.593755              -0.335553         -1.131045   \n",
       "9899   100       54  0.000000               0.223725          0.379090   \n",
       "\n",
       "          Wealth  Suspectability  ID  SecurityLevel  Partner  Memory  \\\n",
       "0       0.571352       -0.362987  16       1.021078       50       8   \n",
       "1      -2.976599        1.161356  97      -3.490298       90       7   \n",
       "2      -2.088441        0.279939  98       2.416611       69       8   \n",
       "3      -3.100177        0.203161  14       0.537178       83       7   \n",
       "4       0.225669        0.146266  42       5.775998       44       4   \n",
       "...          ...             ...  ..            ...      ...     ...   \n",
       "9895 -154.225239       -0.362987  16       1.021078        0       8   \n",
       "9896 -160.549927       -0.124293  50       2.072625       32       5   \n",
       "9897 -159.672816        0.374204  22       3.689642        6       3   \n",
       "9898 -161.182540        0.376700  60      11.798907       71       8   \n",
       "9899 -163.018389        0.529677  54      -3.849030       90       2   \n",
       "\n",
       "      Threshold  \n",
       "0      0.702175  \n",
       "1      0.789599  \n",
       "2      0.673516  \n",
       "3     -0.059812  \n",
       "4      1.123787  \n",
       "...         ...  \n",
       "9895   0.702175  \n",
       "9896   0.533444  \n",
       "9897   0.292406  \n",
       "9898   0.706331  \n",
       "9899   0.281508  \n",
       "\n",
       "[9900 rows x 12 columns]"
      ]
     },
     "execution_count": 52,
     "metadata": {},
     "output_type": "execute_result"
    }
   ],
   "source": [
    "df=read_csv_t(agent_paths,4)\n",
    "df"
   ]
  },
  {
   "cell_type": "code",
   "execution_count": 119,
   "metadata": {},
   "outputs": [],
   "source": [
    "def create_degree_df(G:nx.DiGraph,step:int,out:bool):\n",
    "    if out:\n",
    "        degree_df = dict(G.out_degree(weight=\"weight\"))\n",
    "        degree_df = pd.DataFrame(degree_df, index=[\"out_degree\"]).T\n",
    "        degree_df = degree_df.reset_index()\n",
    "        degree_df.rename(columns={\"index\":\"ID\"},inplace=True)\n",
    "        degree_df[\"ID\"]=degree_df[\"ID\"].astype(int)\n",
    "        degree_df[\"Step\"]=step\n",
    "    else:\n",
    "        degree_df = dict(G.in_degree(weight=\"weight\"))\n",
    "        degree_df = pd.DataFrame(degree_df, index=[\"in_degree\"]).T\n",
    "        degree_df = degree_df.reset_index()\n",
    "        degree_df.rename(columns={\"index\":\"ID\"},inplace=True)\n",
    "        degree_df[\"ID\"]=degree_df[\"ID\"].astype(int)\n",
    "        degree_df[\"Step\"]=step\n",
    "        #degree_df[\"Step\"]=degree_df[\"Step\"].astype(str)\n",
    "\n",
    "    return degree_df\n",
    "\n",
    "def merge_df(df1:pd.DataFrame,df2:pd.DataFrame):\n",
    "    #df=pd.concat([df1,df2],axis=1)\n",
    "    df=pd.merge(df1,df2,on=[\"Step\",\"ID\"])\n",
    "    return df\n"
   ]
  },
  {
   "cell_type": "code",
   "execution_count": 126,
   "metadata": {},
   "outputs": [
    {
     "name": "stdout",
     "output_type": "stream",
     "text": [
      "finished 01\n",
      "finished 02\n",
      "finished 03\n",
      "finished 04\n",
      "finished 05\n",
      "finished 06\n",
      "finished 07\n",
      "finished 08\n",
      "finished 09\n",
      "finished 010\n",
      "finished 011\n",
      "finished 012\n"
     ]
    },
    {
     "ename": "KeyboardInterrupt",
     "evalue": "",
     "output_type": "error",
     "traceback": [
      "\u001b[0;31m---------------------------------------------------------------------------\u001b[0m",
      "\u001b[0;31mKeyboardInterrupt\u001b[0m                         Traceback (most recent call last)",
      "Cell \u001b[0;32mIn[126], line 20\u001b[0m\n\u001b[1;32m     17\u001b[0m                 \u001b[39mprint\u001b[39m(\u001b[39m\"\u001b[39m\u001b[39mfinished \u001b[39m\u001b[39m{}\u001b[39;00m\u001b[39m{}\u001b[39;00m\u001b[39m\"\u001b[39m\u001b[39m.\u001b[39mformat(i,j))\n\u001b[1;32m     18\u001b[0m     \u001b[39mreturn\u001b[39;00m df\n\u001b[0;32m---> 20\u001b[0m df\u001b[39m=\u001b[39manalyze_t(\u001b[39m\"\u001b[39;49m\u001b[39m/home/niklas/Documents/Studium_Uni_Bamberg/Semester4/PWM-PT-HS5/data\u001b[39;49m\u001b[39m\"\u001b[39;49m)\n",
      "Cell \u001b[0;32mIn[126], line 9\u001b[0m, in \u001b[0;36manalyze_t\u001b[0;34m(path)\u001b[0m\n\u001b[1;32m      7\u001b[0m paths\u001b[39m=\u001b[39mload_graphs(path)\n\u001b[1;32m      8\u001b[0m \u001b[39mfor\u001b[39;00m j \u001b[39min\u001b[39;00m \u001b[39mrange\u001b[39m(\u001b[39m100\u001b[39m):\n\u001b[0;32m----> 9\u001b[0m     g\u001b[39m=\u001b[39mcreate_network_t(paths,j,i)\n\u001b[1;32m     10\u001b[0m     \u001b[39mif\u001b[39;00m g \u001b[39mis\u001b[39;00m \u001b[39mnot\u001b[39;00m \u001b[39mNone\u001b[39;00m:\n\u001b[1;32m     11\u001b[0m         \u001b[39m#calculate out-degrees\u001b[39;00m\n\u001b[1;32m     12\u001b[0m         out_degrees \u001b[39m=\u001b[39m create_degree_df(g,j,out\u001b[39m=\u001b[39m\u001b[39mTrue\u001b[39;00m)\n",
      "Cell \u001b[0;32mIn[46], line 5\u001b[0m, in \u001b[0;36mcreate_network_t\u001b[0;34m(paths, t, run)\u001b[0m\n\u001b[1;32m      3\u001b[0m \u001b[39mfor\u001b[39;00m i \u001b[39min\u001b[39;00m \u001b[39mrange\u001b[39m(t):\n\u001b[1;32m      4\u001b[0m     edgelist\u001b[39m=\u001b[39mpaths[run][i]\n\u001b[0;32m----> 5\u001b[0m     g\u001b[39m=\u001b[39mnx\u001b[39m.\u001b[39;49mread_edgelist(edgelist,create_using\u001b[39m=\u001b[39;49mnx\u001b[39m.\u001b[39;49mDiGraph)\n\u001b[1;32m      6\u001b[0m     \u001b[39mif\u001b[39;00m G \u001b[39mis\u001b[39;00m \u001b[39mNone\u001b[39;00m:\n\u001b[1;32m      7\u001b[0m         G\u001b[39m=\u001b[39mg\n",
      "File \u001b[0;32m<class 'networkx.utils.decorators.argmap'> compilation 5:5\u001b[0m, in \u001b[0;36margmap_read_edgelist_1\u001b[0;34m(path, comments, delimiter, create_using, nodetype, data, edgetype, encoding)\u001b[0m\n\u001b[1;32m      3\u001b[0m \u001b[39mimport\u001b[39;00m \u001b[39mgzip\u001b[39;00m\n\u001b[1;32m      4\u001b[0m \u001b[39mimport\u001b[39;00m \u001b[39minspect\u001b[39;00m\n\u001b[0;32m----> 5\u001b[0m \u001b[39mimport\u001b[39;00m \u001b[39mitertools\u001b[39;00m\n\u001b[1;32m      6\u001b[0m \u001b[39mimport\u001b[39;00m \u001b[39mre\u001b[39;00m\n\u001b[1;32m      7\u001b[0m \u001b[39mfrom\u001b[39;00m \u001b[39mcollections\u001b[39;00m \u001b[39mimport\u001b[39;00m defaultdict\n",
      "File \u001b[0;32m~/Documents/Studium_Uni_Bamberg/Semester4/PWM-PT-HS5/abm_HS5/env/lib/python3.11/site-packages/networkx/readwrite/edgelist.py:376\u001b[0m, in \u001b[0;36mread_edgelist\u001b[0;34m(path, comments, delimiter, create_using, nodetype, data, edgetype, encoding)\u001b[0m\n\u001b[1;32m    310\u001b[0m \u001b[39m\u001b[39m\u001b[39m\"\"\"Read a graph from a list of edges.\u001b[39;00m\n\u001b[1;32m    311\u001b[0m \n\u001b[1;32m    312\u001b[0m \u001b[39mParameters\u001b[39;00m\n\u001b[0;32m   (...)\u001b[0m\n\u001b[1;32m    373\u001b[0m \u001b[39mtypes (e.g. int, float, str, frozenset - or tuples of those, etc.)\u001b[39;00m\n\u001b[1;32m    374\u001b[0m \u001b[39m\"\"\"\u001b[39;00m\n\u001b[1;32m    375\u001b[0m lines \u001b[39m=\u001b[39m (line \u001b[39mif\u001b[39;00m \u001b[39misinstance\u001b[39m(line, \u001b[39mstr\u001b[39m) \u001b[39melse\u001b[39;00m line\u001b[39m.\u001b[39mdecode(encoding) \u001b[39mfor\u001b[39;00m line \u001b[39min\u001b[39;00m path)\n\u001b[0;32m--> 376\u001b[0m \u001b[39mreturn\u001b[39;00m parse_edgelist(\n\u001b[1;32m    377\u001b[0m     lines,\n\u001b[1;32m    378\u001b[0m     comments\u001b[39m=\u001b[39;49mcomments,\n\u001b[1;32m    379\u001b[0m     delimiter\u001b[39m=\u001b[39;49mdelimiter,\n\u001b[1;32m    380\u001b[0m     create_using\u001b[39m=\u001b[39;49mcreate_using,\n\u001b[1;32m    381\u001b[0m     nodetype\u001b[39m=\u001b[39;49mnodetype,\n\u001b[1;32m    382\u001b[0m     data\u001b[39m=\u001b[39;49mdata,\n\u001b[1;32m    383\u001b[0m )\n",
      "File \u001b[0;32m~/Documents/Studium_Uni_Bamberg/Semester4/PWM-PT-HS5/abm_HS5/env/lib/python3.11/site-packages/networkx/readwrite/edgelist.py:274\u001b[0m, in \u001b[0;36mparse_edgelist\u001b[0;34m(lines, comments, delimiter, create_using, nodetype, data)\u001b[0m\n\u001b[1;32m    272\u001b[0m     \u001b[39melse\u001b[39;00m:\n\u001b[1;32m    273\u001b[0m         edgedata_str \u001b[39m=\u001b[39m \u001b[39m\"\u001b[39m\u001b[39m \u001b[39m\u001b[39m\"\u001b[39m\u001b[39m.\u001b[39mjoin(d)\n\u001b[0;32m--> 274\u001b[0m     edgedata \u001b[39m=\u001b[39m \u001b[39mdict\u001b[39m(literal_eval(edgedata_str\u001b[39m.\u001b[39;49mstrip()))\n\u001b[1;32m    275\u001b[0m \u001b[39mexcept\u001b[39;00m \u001b[39mException\u001b[39;00m \u001b[39mas\u001b[39;00m err:\n\u001b[1;32m    276\u001b[0m     \u001b[39mraise\u001b[39;00m \u001b[39mTypeError\u001b[39;00m(\n\u001b[1;32m    277\u001b[0m         \u001b[39mf\u001b[39m\u001b[39m\"\u001b[39m\u001b[39mFailed to convert edge data (\u001b[39m\u001b[39m{\u001b[39;00md\u001b[39m}\u001b[39;00m\u001b[39m) to dictionary.\u001b[39m\u001b[39m\"\u001b[39m\n\u001b[1;32m    278\u001b[0m     ) \u001b[39mfrom\u001b[39;00m \u001b[39merr\u001b[39;00m\n",
      "File \u001b[0;32m/usr/lib/python3.11/ast.py:64\u001b[0m, in \u001b[0;36mliteral_eval\u001b[0;34m(node_or_string)\u001b[0m\n\u001b[1;32m     55\u001b[0m \u001b[39m\u001b[39m\u001b[39m\"\"\"\u001b[39;00m\n\u001b[1;32m     56\u001b[0m \u001b[39mEvaluate an expression node or a string containing only a Python\u001b[39;00m\n\u001b[1;32m     57\u001b[0m \u001b[39mexpression.  The string or node provided may only consist of the following\u001b[39;00m\n\u001b[0;32m   (...)\u001b[0m\n\u001b[1;32m     61\u001b[0m \u001b[39mCaution: A complex expression can overflow the C stack and cause a crash.\u001b[39;00m\n\u001b[1;32m     62\u001b[0m \u001b[39m\"\"\"\u001b[39;00m\n\u001b[1;32m     63\u001b[0m \u001b[39mif\u001b[39;00m \u001b[39misinstance\u001b[39m(node_or_string, \u001b[39mstr\u001b[39m):\n\u001b[0;32m---> 64\u001b[0m     node_or_string \u001b[39m=\u001b[39m parse(node_or_string\u001b[39m.\u001b[39;49mlstrip(\u001b[39m\"\u001b[39;49m\u001b[39m \u001b[39;49m\u001b[39m\\t\u001b[39;49;00m\u001b[39m\"\u001b[39;49m), mode\u001b[39m=\u001b[39;49m\u001b[39m'\u001b[39;49m\u001b[39meval\u001b[39;49m\u001b[39m'\u001b[39;49m)\n\u001b[1;32m     65\u001b[0m \u001b[39mif\u001b[39;00m \u001b[39misinstance\u001b[39m(node_or_string, Expression):\n\u001b[1;32m     66\u001b[0m     node_or_string \u001b[39m=\u001b[39m node_or_string\u001b[39m.\u001b[39mbody\n",
      "File \u001b[0;32m/usr/lib/python3.11/ast.py:50\u001b[0m, in \u001b[0;36mparse\u001b[0;34m(source, filename, mode, type_comments, feature_version)\u001b[0m\n\u001b[1;32m     48\u001b[0m     feature_version \u001b[39m=\u001b[39m \u001b[39m-\u001b[39m\u001b[39m1\u001b[39m\n\u001b[1;32m     49\u001b[0m \u001b[39m# Else it should be an int giving the minor version for 3.x.\u001b[39;00m\n\u001b[0;32m---> 50\u001b[0m \u001b[39mreturn\u001b[39;00m \u001b[39mcompile\u001b[39m(source, filename, mode, flags,\n\u001b[1;32m     51\u001b[0m                _feature_version\u001b[39m=\u001b[39mfeature_version)\n",
      "\u001b[0;31mKeyboardInterrupt\u001b[0m: "
     ]
    }
   ],
   "source": [
    "#loop through data and construct final sets\n",
    "\n",
    "def analyze_t(path:str):\n",
    "    for i in range(20):\n",
    "        agent_paths=load_agent_data(path)\n",
    "        df=read_csv_t(agent_paths,i)\n",
    "        paths=load_graphs(path)\n",
    "        for j in range(100):\n",
    "            g=create_network_t(paths,j,i)\n",
    "            if g is not None:\n",
    "                #calculate out-degrees\n",
    "                out_degrees = create_degree_df(g,j,out=True)\n",
    "                in_degrees = create_degree_df(g,j,out=False)\n",
    "                df1=merge_df(df,out_degrees)\n",
    "                df1=merge_df(df1,in_degrees)\n",
    "                df1.to_csv(path+\"/\"+str(i+1)+\"/\"+str(j)+\"step_data.csv\")\n",
    "                print(\"finished {}{}\".format(i,j))\n",
    "    return df\n",
    "            \n",
    "df=analyze_t(\"/home/niklas/Documents/Studium_Uni_Bamberg/Semester4/PWM-PT-HS5/data\")\n",
    "        \n"
   ]
  },
  {
   "cell_type": "markdown",
   "metadata": {},
   "source": [
    "# Sparsity/Clustering"
   ]
  },
  {
   "cell_type": "markdown",
   "metadata": {},
   "source": [
    "- extract clustering per t per graph\n",
    "- own df for network vars\n",
    "- group by step\n",
    "- create clustering histogram over t \n"
   ]
  },
  {
   "cell_type": "code",
   "execution_count": 5,
   "metadata": {},
   "outputs": [
    {
     "data": {
      "text/plain": [
       "0.2972527536619025"
      ]
     },
     "execution_count": 5,
     "metadata": {},
     "output_type": "execute_result"
    }
   ],
   "source": [
    "#calculate clustering over time show histogram\n",
    "nx.average_clustering(G)\n"
   ]
  },
  {
   "cell_type": "markdown",
   "metadata": {},
   "source": [
    "# Centrality\n",
    "- in-out degrees of nodes -> needed\n",
    "- degree centrality (importance based in degrees)\n",
    "- betweenness centrality (importance based on information flow)\n",
    "- pagerank (importance metric for large and dense networks)"
   ]
  },
  {
   "cell_type": "code",
   "execution_count": 67,
   "metadata": {},
   "outputs": [
    {
     "name": "stdout",
     "output_type": "stream",
     "text": [
      "{'0': 128, '69': 116, '55': 126, '7': 126, '6': 112, '57': 114, '94': 122, '11': 140, '14': 120, '76': 124, '82': 120, '47': 132, '2': 120, '42': 132, '90': 118, '45': 126, '71': 132, '87': 132, '91': 132, '98': 128, '16': 122, '51': 116, '74': 124, '80': 122, '70': 116, '17': 130, '40': 126, '56': 116, '77': 120, '53': 126, '48': 126, '46': 132, '3': 118, '61': 136, '84': 124, '64': 118, '24': 130, '37': 128, '99': 120, '23': 128, '33': 138, '36': 124, '81': 126, '49': 118, '30': 122, '8': 114, '97': 128, '4': 122, '67': 126, '59': 130, '85': 120, '89': 128, '15': 128, '41': 120, '26': 126, '72': 122, '79': 124, '20': 122, '19': 120, '75': 128, '27': 126, '9': 120, '43': 134, '1': 126, '54': 132, '60': 126, '65': 118, '66': 134, '44': 132, '31': 128, '62': 126, '39': 130, '28': 138, '25': 120, '73': 130, '38': 128, '86': 124, '58': 132, '18': 116, '92': 130, '88': 122, '22': 136, '52': 126, '12': 122, '50': 118, '5': 122, '96': 128, '29': 124, '68': 118, '32': 130, '63': 132, '93': 126, '95': 132, '35': 120, '34': 124, '83': 134, '10': 124, '78': 138, '21': 112, '13': 130}\n"
     ]
    },
    {
     "data": {
      "text/html": [
       "<div>\n",
       "<style scoped>\n",
       "    .dataframe tbody tr th:only-of-type {\n",
       "        vertical-align: middle;\n",
       "    }\n",
       "\n",
       "    .dataframe tbody tr th {\n",
       "        vertical-align: top;\n",
       "    }\n",
       "\n",
       "    .dataframe thead th {\n",
       "        text-align: right;\n",
       "    }\n",
       "</style>\n",
       "<table border=\"1\" class=\"dataframe\">\n",
       "  <thead>\n",
       "    <tr style=\"text-align: right;\">\n",
       "      <th></th>\n",
       "      <th>index</th>\n",
       "      <th>degre</th>\n",
       "      <th>step</th>\n",
       "    </tr>\n",
       "  </thead>\n",
       "  <tbody>\n",
       "    <tr>\n",
       "      <th>0</th>\n",
       "      <td>0</td>\n",
       "      <td>128</td>\n",
       "      <td>4</td>\n",
       "    </tr>\n",
       "    <tr>\n",
       "      <th>1</th>\n",
       "      <td>69</td>\n",
       "      <td>116</td>\n",
       "      <td>4</td>\n",
       "    </tr>\n",
       "    <tr>\n",
       "      <th>2</th>\n",
       "      <td>55</td>\n",
       "      <td>126</td>\n",
       "      <td>4</td>\n",
       "    </tr>\n",
       "    <tr>\n",
       "      <th>3</th>\n",
       "      <td>7</td>\n",
       "      <td>126</td>\n",
       "      <td>4</td>\n",
       "    </tr>\n",
       "    <tr>\n",
       "      <th>4</th>\n",
       "      <td>6</td>\n",
       "      <td>112</td>\n",
       "      <td>4</td>\n",
       "    </tr>\n",
       "  </tbody>\n",
       "</table>\n",
       "</div>"
      ],
      "text/plain": [
       "  index  degre  step\n",
       "0     0    128     4\n",
       "1    69    116     4\n",
       "2    55    126     4\n",
       "3     7    126     4\n",
       "4     6    112     4"
      ]
     },
     "execution_count": 67,
     "metadata": {},
     "output_type": "execute_result"
    }
   ],
   "source": [
    "degrees = dict(nx.degree(G))\n",
    "print(degrees)\n",
    "#create pandas df to analyze degrees bzw add to pandas df (per step number)\n",
    "degree_df = pd.DataFrame(degrees, index=[\"degre\"]).T\n",
    "degree_df = degree_df.reset_index()\n",
    "degree_df[\"step\"]=4\n",
    "#degree_df.columns = ['degrees']\n",
    "#degree_df.sort_values('degrees', inplace=True, ascending=False)\n",
    "degree_df.head()"
   ]
  },
  {
   "cell_type": "code",
   "execution_count": null,
   "metadata": {},
   "outputs": [],
   "source": [
    "#out-degrees\n"
   ]
  },
  {
   "cell_type": "code",
   "execution_count": null,
   "metadata": {},
   "outputs": [],
   "source": [
    "#degree centrality\n",
    "degcent = nx.degree_centrality(G)\n",
    "\n",
    "degcent_df = pd.DataFrame(degcent, index=[0]).T\n",
    "degcent_df.columns = ['degree_centrality']\n",
    "degcent_df.sort_values('degree_centrality', inplace=True, ascending=F\n",
    "degcent_df.head()"
   ]
  },
  {
   "cell_type": "code",
   "execution_count": null,
   "metadata": {},
   "outputs": [],
   "source": [
    "#betweenness centrality\n",
    "betwcent = nx.betweenness_centrality(G)\n",
    "\n",
    "betwcent_df = pd.DataFrame(betwcent, index=[0]).T\n",
    "betwcent_df.columns = ['betweenness_centrality']\n",
    "betwcent_df.sort_values('betweenness_centrality', inplace=True, ascen\n",
    "betwcent_df.head()"
   ]
  },
  {
   "cell_type": "code",
   "execution_count": null,
   "metadata": {},
   "outputs": [],
   "source": [
    "#pagerank\n",
    "pagerank = nx.pagerank(G)\n",
    "\n",
    "pagerank_df = pd.DataFrame(pagerank, index=[0]).T\n",
    "pagerank_df.columns = ['pagerank']\n",
    "pagerank_df.sort_values('pagerank', inplace=True, ascending=False)\n",
    "pagerank_df.head()"
   ]
  },
  {
   "cell_type": "code",
   "execution_count": null,
   "metadata": {},
   "outputs": [],
   "source": [
    "#combine\n",
    "combined_importance_df = pd.concat([degree_df, degcent_df, betwcent_df])\n",
    "combined_importance_df.head(10)\n",
    "\n",
    "#sort by importance based on pagerank\n",
    "combined_importance_df.sort_values('pagerank', ascending=False)"
   ]
  },
  {
   "cell_type": "markdown",
   "metadata": {},
   "source": [
    "# Connected Components"
   ]
  },
  {
   "cell_type": "code",
   "execution_count": null,
   "metadata": {},
   "outputs": [],
   "source": [
    "components = list(nx.connected_components(G))\n",
    "len(components)"
   ]
  }
 ],
 "metadata": {
  "kernelspec": {
   "display_name": "env",
   "language": "python",
   "name": "python3"
  },
  "language_info": {
   "codemirror_mode": {
    "name": "ipython",
    "version": 3
   },
   "file_extension": ".py",
   "mimetype": "text/x-python",
   "name": "python",
   "nbconvert_exporter": "python",
   "pygments_lexer": "ipython3",
   "version": "3.11.2"
  },
  "orig_nbformat": 4
 },
 "nbformat": 4,
 "nbformat_minor": 2
}
