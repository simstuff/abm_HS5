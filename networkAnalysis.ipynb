{
 "cells": [
  {
   "cell_type": "markdown",
   "metadata": {},
   "source": [
    "# Load Graphs"
   ]
  },
  {
   "cell_type": "code",
   "execution_count": 2,
   "metadata": {},
   "outputs": [],
   "source": [
    "import os\n",
    "import glob\n",
    "\n",
    "path=\"/home/niklas/Documents/Studium_Uni_Bamberg/Semester4/PWM-PT-HS5/data\"\n",
    "\n",
    "def load_graphs(path):\n",
    "    path_list=[]\n",
    "    for folder in os.listdir(path):\n",
    "        os.chdir(path)\n",
    "        path_list.append(glob.glob(os.path.join(path,folder,'*.{}'.format(\"edgelist\"))))      \n",
    "    return path_list\n",
    "\n"
   ]
  },
  {
   "cell_type": "markdown",
   "metadata": {},
   "source": [
    "## Load Graph for t=1"
   ]
  },
  {
   "cell_type": "code",
   "execution_count": 14,
   "metadata": {},
   "outputs": [],
   "source": [
    "import networkx as nx\n",
    "\n",
    "paths=load_graphs(path)\n",
    "count=len(paths[0])\n",
    "number=len(paths)\n",
    "\n",
    "def create_network_t1(paths:list,count:int,number:int):\n",
    "    edgelist=paths[number-1][count-1]\n",
    "    G=nx.read_edgelist(edgelist)\n",
    "    return G\n"
   ]
  },
  {
   "cell_type": "code",
   "execution_count": 15,
   "metadata": {},
   "outputs": [
    {
     "name": "stdout",
     "output_type": "stream",
     "text": [
      "Graph with 100 nodes and 1522 edges\n"
     ]
    }
   ],
   "source": [
    "G=create_network_t1(paths,count,number)\n",
    "print(G)"
   ]
  },
  {
   "cell_type": "markdown",
   "metadata": {},
   "source": [
    "## Load Graph for t > 1"
   ]
  },
  {
   "cell_type": "code",
   "execution_count": 16,
   "metadata": {},
   "outputs": [],
   "source": [
    "def create_network_t(paths:list,t:int,run:int):\n",
    "    G=None\n",
    "    for i in range(t):\n",
    "        edgelist=paths[run][i]\n",
    "        g=nx.read_edgelist(edgelist)\n",
    "        if G is None:\n",
    "            G=g\n",
    "        else:\n",
    "            G=nx.compose(G,g)\n",
    "    return G"
   ]
  },
  {
   "cell_type": "code",
   "execution_count": 17,
   "metadata": {},
   "outputs": [
    {
     "name": "stdout",
     "output_type": "stream",
     "text": [
      "Graph with 100 nodes and 3133 edges\n"
     ]
    }
   ],
   "source": [
    "G=create_network_t(paths,4,3)\n",
    "print(G)"
   ]
  },
  {
   "cell_type": "markdown",
   "metadata": {},
   "source": [
    "# Load model and agent data"
   ]
  },
  {
   "cell_type": "code",
   "execution_count": 20,
   "metadata": {},
   "outputs": [],
   "source": [
    "def load_agent_data(path):\n",
    "    path_list=[]\n",
    "    for folder in os.listdir(path):\n",
    "        os.chdir(path)\n",
    "        path_list.append(glob.glob(os.path.join(path,folder,'agent_data.{}'.format(\"csv\"))))      \n",
    "    return path_list\n",
    "\n",
    "agent_paths=load_agent_data(path)\n",
    "\n",
    "def load_model_data(path):\n",
    "    path_list=[]\n",
    "    for folder in os.listdir(path):\n",
    "        os.chdir(path)\n",
    "        path_list.append(glob.glob(os.path.join(path,folder,'agent_data.{}'.format(\"csv\"))))      \n",
    "    return path_list\n",
    "\n",
    "model_paths=load_model_data"
   ]
  },
  {
   "cell_type": "code",
   "execution_count": 32,
   "metadata": {},
   "outputs": [
    {
     "name": "stdout",
     "output_type": "stream",
     "text": [
      "['/home/niklas/Documents/Studium_Uni_Bamberg/Semester4/PWM-PT-HS5/data/14/agent_data.csv']\n"
     ]
    },
    {
     "data": {
      "text/html": [
       "<div>\n",
       "<style scoped>\n",
       "    .dataframe tbody tr th:only-of-type {\n",
       "        vertical-align: middle;\n",
       "    }\n",
       "\n",
       "    .dataframe tbody tr th {\n",
       "        vertical-align: top;\n",
       "    }\n",
       "\n",
       "    .dataframe thead th {\n",
       "        text-align: right;\n",
       "    }\n",
       "</style>\n",
       "<table border=\"1\" class=\"dataframe\">\n",
       "  <thead>\n",
       "    <tr style=\"text-align: right;\">\n",
       "      <th></th>\n",
       "      <th>Step</th>\n",
       "      <th>AgentID</th>\n",
       "      <th>Info</th>\n",
       "      <th>Avg_PersonalizedTrust</th>\n",
       "      <th>GeneralizedTrust</th>\n",
       "      <th>Wealth</th>\n",
       "      <th>Suspectability</th>\n",
       "      <th>ID</th>\n",
       "      <th>SecurityLevel</th>\n",
       "      <th>Partner</th>\n",
       "      <th>Memory</th>\n",
       "      <th>Threshold</th>\n",
       "    </tr>\n",
       "  </thead>\n",
       "  <tbody>\n",
       "    <tr>\n",
       "      <th>0</th>\n",
       "      <td>2</td>\n",
       "      <td>50</td>\n",
       "      <td>0.000000</td>\n",
       "      <td>-0.602916</td>\n",
       "      <td>-0.959783</td>\n",
       "      <td>-0.558221</td>\n",
       "      <td>-0.782422</td>\n",
       "      <td>50</td>\n",
       "      <td>2.519678</td>\n",
       "      <td>39</td>\n",
       "      <td>9</td>\n",
       "      <td>0.539936</td>\n",
       "    </tr>\n",
       "    <tr>\n",
       "      <th>1</th>\n",
       "      <td>2</td>\n",
       "      <td>44</td>\n",
       "      <td>0.000000</td>\n",
       "      <td>-0.118134</td>\n",
       "      <td>-0.143073</td>\n",
       "      <td>1.744169</td>\n",
       "      <td>0.354541</td>\n",
       "      <td>44</td>\n",
       "      <td>-4.999263</td>\n",
       "      <td>86</td>\n",
       "      <td>8</td>\n",
       "      <td>0.546276</td>\n",
       "    </tr>\n",
       "    <tr>\n",
       "      <th>2</th>\n",
       "      <td>2</td>\n",
       "      <td>42</td>\n",
       "      <td>0.000000</td>\n",
       "      <td>0.021926</td>\n",
       "      <td>0.018317</td>\n",
       "      <td>2.126705</td>\n",
       "      <td>0.423461</td>\n",
       "      <td>42</td>\n",
       "      <td>0.497191</td>\n",
       "      <td>41</td>\n",
       "      <td>3</td>\n",
       "      <td>-0.108775</td>\n",
       "    </tr>\n",
       "    <tr>\n",
       "      <th>3</th>\n",
       "      <td>2</td>\n",
       "      <td>17</td>\n",
       "      <td>0.000000</td>\n",
       "      <td>-0.365221</td>\n",
       "      <td>-0.370438</td>\n",
       "      <td>-0.930478</td>\n",
       "      <td>1.393606</td>\n",
       "      <td>17</td>\n",
       "      <td>-0.644068</td>\n",
       "      <td>22</td>\n",
       "      <td>4</td>\n",
       "      <td>0.211719</td>\n",
       "    </tr>\n",
       "    <tr>\n",
       "      <th>4</th>\n",
       "      <td>2</td>\n",
       "      <td>53</td>\n",
       "      <td>0.000000</td>\n",
       "      <td>-0.134148</td>\n",
       "      <td>-0.180186</td>\n",
       "      <td>-3.302550</td>\n",
       "      <td>1.491366</td>\n",
       "      <td>53</td>\n",
       "      <td>10.031518</td>\n",
       "      <td>76</td>\n",
       "      <td>3</td>\n",
       "      <td>0.463998</td>\n",
       "    </tr>\n",
       "    <tr>\n",
       "      <th>...</th>\n",
       "      <td>...</td>\n",
       "      <td>...</td>\n",
       "      <td>...</td>\n",
       "      <td>...</td>\n",
       "      <td>...</td>\n",
       "      <td>...</td>\n",
       "      <td>...</td>\n",
       "      <td>...</td>\n",
       "      <td>...</td>\n",
       "      <td>...</td>\n",
       "      <td>...</td>\n",
       "      <td>...</td>\n",
       "    </tr>\n",
       "    <tr>\n",
       "      <th>9895</th>\n",
       "      <td>100</td>\n",
       "      <td>67</td>\n",
       "      <td>0.000000</td>\n",
       "      <td>-0.110519</td>\n",
       "      <td>-0.223556</td>\n",
       "      <td>-166.439622</td>\n",
       "      <td>0.593146</td>\n",
       "      <td>67</td>\n",
       "      <td>3.805931</td>\n",
       "      <td>10</td>\n",
       "      <td>6</td>\n",
       "      <td>-0.352132</td>\n",
       "    </tr>\n",
       "    <tr>\n",
       "      <th>9896</th>\n",
       "      <td>100</td>\n",
       "      <td>72</td>\n",
       "      <td>0.330465</td>\n",
       "      <td>-0.135897</td>\n",
       "      <td>-0.953190</td>\n",
       "      <td>-179.263123</td>\n",
       "      <td>0.670971</td>\n",
       "      <td>72</td>\n",
       "      <td>2.432102</td>\n",
       "      <td>19</td>\n",
       "      <td>7</td>\n",
       "      <td>0.743006</td>\n",
       "    </tr>\n",
       "    <tr>\n",
       "      <th>9897</th>\n",
       "      <td>100</td>\n",
       "      <td>8</td>\n",
       "      <td>0.348150</td>\n",
       "      <td>-0.338595</td>\n",
       "      <td>-0.916403</td>\n",
       "      <td>-178.992577</td>\n",
       "      <td>0.943512</td>\n",
       "      <td>8</td>\n",
       "      <td>-1.695737</td>\n",
       "      <td>41</td>\n",
       "      <td>9</td>\n",
       "      <td>0.317800</td>\n",
       "    </tr>\n",
       "    <tr>\n",
       "      <th>9898</th>\n",
       "      <td>100</td>\n",
       "      <td>39</td>\n",
       "      <td>0.000000</td>\n",
       "      <td>0.127007</td>\n",
       "      <td>0.546754</td>\n",
       "      <td>-169.074122</td>\n",
       "      <td>0.999815</td>\n",
       "      <td>39</td>\n",
       "      <td>-2.973734</td>\n",
       "      <td>51</td>\n",
       "      <td>8</td>\n",
       "      <td>0.408411</td>\n",
       "    </tr>\n",
       "    <tr>\n",
       "      <th>9899</th>\n",
       "      <td>100</td>\n",
       "      <td>85</td>\n",
       "      <td>0.000000</td>\n",
       "      <td>0.001341</td>\n",
       "      <td>0.004839</td>\n",
       "      <td>-175.280775</td>\n",
       "      <td>0.273495</td>\n",
       "      <td>85</td>\n",
       "      <td>9.326973</td>\n",
       "      <td>13</td>\n",
       "      <td>3</td>\n",
       "      <td>-0.211829</td>\n",
       "    </tr>\n",
       "  </tbody>\n",
       "</table>\n",
       "<p>9900 rows × 12 columns</p>\n",
       "</div>"
      ],
      "text/plain": [
       "      Step  AgentID      Info  Avg_PersonalizedTrust  GeneralizedTrust  \\\n",
       "0        2       50  0.000000              -0.602916         -0.959783   \n",
       "1        2       44  0.000000              -0.118134         -0.143073   \n",
       "2        2       42  0.000000               0.021926          0.018317   \n",
       "3        2       17  0.000000              -0.365221         -0.370438   \n",
       "4        2       53  0.000000              -0.134148         -0.180186   \n",
       "...    ...      ...       ...                    ...               ...   \n",
       "9895   100       67  0.000000              -0.110519         -0.223556   \n",
       "9896   100       72  0.330465              -0.135897         -0.953190   \n",
       "9897   100        8  0.348150              -0.338595         -0.916403   \n",
       "9898   100       39  0.000000               0.127007          0.546754   \n",
       "9899   100       85  0.000000               0.001341          0.004839   \n",
       "\n",
       "          Wealth  Suspectability  ID  SecurityLevel  Partner  Memory  \\\n",
       "0      -0.558221       -0.782422  50       2.519678       39       9   \n",
       "1       1.744169        0.354541  44      -4.999263       86       8   \n",
       "2       2.126705        0.423461  42       0.497191       41       3   \n",
       "3      -0.930478        1.393606  17      -0.644068       22       4   \n",
       "4      -3.302550        1.491366  53      10.031518       76       3   \n",
       "...          ...             ...  ..            ...      ...     ...   \n",
       "9895 -166.439622        0.593146  67       3.805931       10       6   \n",
       "9896 -179.263123        0.670971  72       2.432102       19       7   \n",
       "9897 -178.992577        0.943512   8      -1.695737       41       9   \n",
       "9898 -169.074122        0.999815  39      -2.973734       51       8   \n",
       "9899 -175.280775        0.273495  85       9.326973       13       3   \n",
       "\n",
       "      Threshold  \n",
       "0      0.539936  \n",
       "1      0.546276  \n",
       "2     -0.108775  \n",
       "3      0.211719  \n",
       "4      0.463998  \n",
       "...         ...  \n",
       "9895  -0.352132  \n",
       "9896   0.743006  \n",
       "9897   0.317800  \n",
       "9898   0.408411  \n",
       "9899  -0.211829  \n",
       "\n",
       "[9900 rows x 12 columns]"
      ]
     },
     "execution_count": 32,
     "metadata": {},
     "output_type": "execute_result"
    }
   ],
   "source": [
    "import pandas as pd\n",
    "\n",
    "def read_csv_t(paths:list,run:int):\n",
    "    path=\"%s\".join(paths[run])\n",
    "    df=pd.read_csv(path)\n",
    "    return df\n",
    "agent_df=read_csv_t(agent_paths,4)\n"
   ]
  },
  {
   "cell_type": "markdown",
   "metadata": {},
   "source": [
    "# Sparsity/Clustering"
   ]
  },
  {
   "cell_type": "code",
   "execution_count": 5,
   "metadata": {},
   "outputs": [
    {
     "data": {
      "text/plain": [
       "0.2972527536619025"
      ]
     },
     "execution_count": 5,
     "metadata": {},
     "output_type": "execute_result"
    }
   ],
   "source": [
    "\n",
    "nx.average_clustering(G)"
   ]
  }
 ],
 "metadata": {
  "kernelspec": {
   "display_name": "env",
   "language": "python",
   "name": "python3"
  },
  "language_info": {
   "codemirror_mode": {
    "name": "ipython",
    "version": 3
   },
   "file_extension": ".py",
   "mimetype": "text/x-python",
   "name": "python",
   "nbconvert_exporter": "python",
   "pygments_lexer": "ipython3",
   "version": "3.11.2"
  },
  "orig_nbformat": 4
 },
 "nbformat": 4,
 "nbformat_minor": 2
}
