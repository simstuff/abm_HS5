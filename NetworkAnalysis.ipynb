{
 "cells": [
  {
   "cell_type": "code",
   "execution_count": 4,
   "id": "4470dba5",
   "metadata": {},
   "outputs": [
    {
     "name": "stdout",
     "output_type": "stream",
     "text": [
      "3.1\n"
     ]
    }
   ],
   "source": [
    "import pandas as pd\n",
    "import networkx as nx\n",
    "print(nx.__version__)"
   ]
  },
  {
   "cell_type": "markdown",
   "id": "f9662557",
   "metadata": {},
   "source": [
    "# Import data"
   ]
  },
  {
   "cell_type": "code",
   "execution_count": 5,
   "id": "5fe2f5be",
   "metadata": {},
   "outputs": [
    {
     "data": {
      "text/html": [
       "<div>\n",
       "<style scoped>\n",
       "    .dataframe tbody tr th:only-of-type {\n",
       "        vertical-align: middle;\n",
       "    }\n",
       "\n",
       "    .dataframe tbody tr th {\n",
       "        vertical-align: top;\n",
       "    }\n",
       "\n",
       "    .dataframe thead th {\n",
       "        text-align: right;\n",
       "    }\n",
       "</style>\n",
       "<table border=\"1\" class=\"dataframe\">\n",
       "  <thead>\n",
       "    <tr style=\"text-align: right;\">\n",
       "      <th></th>\n",
       "      <th>Unnamed: 0</th>\n",
       "      <th>source</th>\n",
       "      <th>target</th>\n",
       "      <th>weight</th>\n",
       "    </tr>\n",
       "  </thead>\n",
       "  <tbody>\n",
       "    <tr>\n",
       "      <th>0</th>\n",
       "      <td>0</td>\n",
       "      <td>7</td>\n",
       "      <td>47</td>\n",
       "      <td>0.308373</td>\n",
       "    </tr>\n",
       "    <tr>\n",
       "      <th>1</th>\n",
       "      <td>1</td>\n",
       "      <td>7</td>\n",
       "      <td>21</td>\n",
       "      <td>0.173196</td>\n",
       "    </tr>\n",
       "    <tr>\n",
       "      <th>2</th>\n",
       "      <td>2</td>\n",
       "      <td>7</td>\n",
       "      <td>36</td>\n",
       "      <td>0.289113</td>\n",
       "    </tr>\n",
       "    <tr>\n",
       "      <th>3</th>\n",
       "      <td>3</td>\n",
       "      <td>7</td>\n",
       "      <td>2</td>\n",
       "      <td>0.286444</td>\n",
       "    </tr>\n",
       "    <tr>\n",
       "      <th>4</th>\n",
       "      <td>4</td>\n",
       "      <td>7</td>\n",
       "      <td>46</td>\n",
       "      <td>0.415905</td>\n",
       "    </tr>\n",
       "    <tr>\n",
       "      <th>...</th>\n",
       "      <td>...</td>\n",
       "      <td>...</td>\n",
       "      <td>...</td>\n",
       "      <td>...</td>\n",
       "    </tr>\n",
       "    <tr>\n",
       "      <th>283</th>\n",
       "      <td>283</td>\n",
       "      <td>33</td>\n",
       "      <td>42</td>\n",
       "      <td>-1.597501</td>\n",
       "    </tr>\n",
       "    <tr>\n",
       "      <th>284</th>\n",
       "      <td>284</td>\n",
       "      <td>33</td>\n",
       "      <td>26</td>\n",
       "      <td>-1.501919</td>\n",
       "    </tr>\n",
       "    <tr>\n",
       "      <th>285</th>\n",
       "      <td>285</td>\n",
       "      <td>33</td>\n",
       "      <td>35</td>\n",
       "      <td>-1.129448</td>\n",
       "    </tr>\n",
       "    <tr>\n",
       "      <th>286</th>\n",
       "      <td>286</td>\n",
       "      <td>33</td>\n",
       "      <td>19</td>\n",
       "      <td>-1.556788</td>\n",
       "    </tr>\n",
       "    <tr>\n",
       "      <th>287</th>\n",
       "      <td>287</td>\n",
       "      <td>33</td>\n",
       "      <td>43</td>\n",
       "      <td>-1.291455</td>\n",
       "    </tr>\n",
       "  </tbody>\n",
       "</table>\n",
       "<p>288 rows × 4 columns</p>\n",
       "</div>"
      ],
      "text/plain": [
       "     Unnamed: 0  source  target    weight\n",
       "0             0       7      47  0.308373\n",
       "1             1       7      21  0.173196\n",
       "2             2       7      36  0.289113\n",
       "3             3       7       2  0.286444\n",
       "4             4       7      46  0.415905\n",
       "..          ...     ...     ...       ...\n",
       "283         283      33      42 -1.597501\n",
       "284         284      33      26 -1.501919\n",
       "285         285      33      35 -1.129448\n",
       "286         286      33      19 -1.556788\n",
       "287         287      33      43 -1.291455\n",
       "\n",
       "[288 rows x 4 columns]"
      ]
     },
     "execution_count": 5,
     "metadata": {},
     "output_type": "execute_result"
    }
   ],
   "source": [
    "network_df=pd.read_csv(\"/home/niklas/Documents/Studium_Uni_Bamberg/Semester4/PWM-PT-HS5/abm_HS5/graph_data.csv\")\n",
    "network_df"
   ]
  },
  {
   "cell_type": "code",
   "execution_count": 84,
   "id": "b281323f",
   "metadata": {},
   "outputs": [
    {
     "data": {
      "text/html": [
       "<div>\n",
       "<style scoped>\n",
       "    .dataframe tbody tr th:only-of-type {\n",
       "        vertical-align: middle;\n",
       "    }\n",
       "\n",
       "    .dataframe tbody tr th {\n",
       "        vertical-align: top;\n",
       "    }\n",
       "\n",
       "    .dataframe thead th {\n",
       "        text-align: right;\n",
       "    }\n",
       "</style>\n",
       "<table border=\"1\" class=\"dataframe\">\n",
       "  <thead>\n",
       "    <tr style=\"text-align: right;\">\n",
       "      <th></th>\n",
       "      <th>Step</th>\n",
       "      <th>AgentID</th>\n",
       "      <th>Info</th>\n",
       "      <th>PersonalizedTrust</th>\n",
       "      <th>GeneralizedTrust</th>\n",
       "      <th>Wealth</th>\n",
       "      <th>Suspectability</th>\n",
       "      <th>ID</th>\n",
       "      <th>SecurityLevel</th>\n",
       "    </tr>\n",
       "  </thead>\n",
       "  <tbody>\n",
       "    <tr>\n",
       "      <th>0</th>\n",
       "      <td>2</td>\n",
       "      <td>18</td>\n",
       "      <td>0</td>\n",
       "      <td>0.076129</td>\n",
       "      <td>0.096115</td>\n",
       "      <td>7.466380</td>\n",
       "      <td>0.532469</td>\n",
       "      <td>18</td>\n",
       "      <td>1.213745</td>\n",
       "    </tr>\n",
       "    <tr>\n",
       "      <th>1</th>\n",
       "      <td>2</td>\n",
       "      <td>41</td>\n",
       "      <td>0</td>\n",
       "      <td>0.055738</td>\n",
       "      <td>0.046416</td>\n",
       "      <td>4.326126</td>\n",
       "      <td>0.154025</td>\n",
       "      <td>41</td>\n",
       "      <td>1.477055</td>\n",
       "    </tr>\n",
       "    <tr>\n",
       "      <th>2</th>\n",
       "      <td>2</td>\n",
       "      <td>33</td>\n",
       "      <td>0</td>\n",
       "      <td>-1.425691</td>\n",
       "      <td>-1.181434</td>\n",
       "      <td>4.408158</td>\n",
       "      <td>0.073550</td>\n",
       "      <td>33</td>\n",
       "      <td>1.231886</td>\n",
       "    </tr>\n",
       "    <tr>\n",
       "      <th>3</th>\n",
       "      <td>2</td>\n",
       "      <td>4</td>\n",
       "      <td>0</td>\n",
       "      <td>0.131693</td>\n",
       "      <td>0.216884</td>\n",
       "      <td>2.405638</td>\n",
       "      <td>0.208211</td>\n",
       "      <td>4</td>\n",
       "      <td>1.024628</td>\n",
       "    </tr>\n",
       "    <tr>\n",
       "      <th>4</th>\n",
       "      <td>2</td>\n",
       "      <td>1</td>\n",
       "      <td>0</td>\n",
       "      <td>0.533525</td>\n",
       "      <td>0.500832</td>\n",
       "      <td>3.495436</td>\n",
       "      <td>0.216237</td>\n",
       "      <td>1</td>\n",
       "      <td>1.304080</td>\n",
       "    </tr>\n",
       "    <tr>\n",
       "      <th>...</th>\n",
       "      <td>...</td>\n",
       "      <td>...</td>\n",
       "      <td>...</td>\n",
       "      <td>...</td>\n",
       "      <td>...</td>\n",
       "      <td>...</td>\n",
       "      <td>...</td>\n",
       "      <td>...</td>\n",
       "      <td>...</td>\n",
       "    </tr>\n",
       "    <tr>\n",
       "      <th>295</th>\n",
       "      <td>7</td>\n",
       "      <td>22</td>\n",
       "      <td>0</td>\n",
       "      <td>1.161643</td>\n",
       "      <td>1.000000</td>\n",
       "      <td>8.046623</td>\n",
       "      <td>0.269230</td>\n",
       "      <td>22</td>\n",
       "      <td>1.120685</td>\n",
       "    </tr>\n",
       "    <tr>\n",
       "      <th>296</th>\n",
       "      <td>7</td>\n",
       "      <td>3</td>\n",
       "      <td>0</td>\n",
       "      <td>0.317636</td>\n",
       "      <td>0.268076</td>\n",
       "      <td>8.477878</td>\n",
       "      <td>0.436922</td>\n",
       "      <td>3</td>\n",
       "      <td>1.304055</td>\n",
       "    </tr>\n",
       "    <tr>\n",
       "      <th>297</th>\n",
       "      <td>7</td>\n",
       "      <td>49</td>\n",
       "      <td>0</td>\n",
       "      <td>-0.532079</td>\n",
       "      <td>-0.527674</td>\n",
       "      <td>5.018799</td>\n",
       "      <td>0.518271</td>\n",
       "      <td>49</td>\n",
       "      <td>1.182237</td>\n",
       "    </tr>\n",
       "    <tr>\n",
       "      <th>298</th>\n",
       "      <td>7</td>\n",
       "      <td>30</td>\n",
       "      <td>0</td>\n",
       "      <td>1.303888</td>\n",
       "      <td>1.000000</td>\n",
       "      <td>8.601630</td>\n",
       "      <td>0.898008</td>\n",
       "      <td>30</td>\n",
       "      <td>1.087868</td>\n",
       "    </tr>\n",
       "    <tr>\n",
       "      <th>299</th>\n",
       "      <td>7</td>\n",
       "      <td>23</td>\n",
       "      <td>0</td>\n",
       "      <td>-0.341862</td>\n",
       "      <td>-0.250255</td>\n",
       "      <td>9.689846</td>\n",
       "      <td>0.201309</td>\n",
       "      <td>23</td>\n",
       "      <td>1.302511</td>\n",
       "    </tr>\n",
       "  </tbody>\n",
       "</table>\n",
       "<p>300 rows × 9 columns</p>\n",
       "</div>"
      ],
      "text/plain": [
       "     Step  AgentID  Info  PersonalizedTrust  GeneralizedTrust    Wealth   \n",
       "0       2       18     0           0.076129          0.096115  7.466380  \\\n",
       "1       2       41     0           0.055738          0.046416  4.326126   \n",
       "2       2       33     0          -1.425691         -1.181434  4.408158   \n",
       "3       2        4     0           0.131693          0.216884  2.405638   \n",
       "4       2        1     0           0.533525          0.500832  3.495436   \n",
       "..    ...      ...   ...                ...               ...       ...   \n",
       "295     7       22     0           1.161643          1.000000  8.046623   \n",
       "296     7        3     0           0.317636          0.268076  8.477878   \n",
       "297     7       49     0          -0.532079         -0.527674  5.018799   \n",
       "298     7       30     0           1.303888          1.000000  8.601630   \n",
       "299     7       23     0          -0.341862         -0.250255  9.689846   \n",
       "\n",
       "     Suspectability  ID  SecurityLevel  \n",
       "0          0.532469  18       1.213745  \n",
       "1          0.154025  41       1.477055  \n",
       "2          0.073550  33       1.231886  \n",
       "3          0.208211   4       1.024628  \n",
       "4          0.216237   1       1.304080  \n",
       "..              ...  ..            ...  \n",
       "295        0.269230  22       1.120685  \n",
       "296        0.436922   3       1.304055  \n",
       "297        0.518271  49       1.182237  \n",
       "298        0.898008  30       1.087868  \n",
       "299        0.201309  23       1.302511  \n",
       "\n",
       "[300 rows x 9 columns]"
      ]
     },
     "execution_count": 84,
     "metadata": {},
     "output_type": "execute_result"
    }
   ],
   "source": [
    "agents_df=pd.read_csv(\"/home/niklas/Documents/Studium_Uni_Bamberg/Semester4/PWM-PT-HS5/abm_HS5/agent_data.csv\")\n",
    "agents_df"
   ]
  },
  {
   "cell_type": "code",
   "execution_count": 7,
   "id": "a4878ac4",
   "metadata": {},
   "outputs": [
    {
     "data": {
      "text/html": [
       "<div>\n",
       "<style scoped>\n",
       "    .dataframe tbody tr th:only-of-type {\n",
       "        vertical-align: middle;\n",
       "    }\n",
       "\n",
       "    .dataframe tbody tr th {\n",
       "        vertical-align: top;\n",
       "    }\n",
       "\n",
       "    .dataframe thead th {\n",
       "        text-align: right;\n",
       "    }\n",
       "</style>\n",
       "<table border=\"1\" class=\"dataframe\">\n",
       "  <thead>\n",
       "    <tr style=\"text-align: right;\">\n",
       "      <th></th>\n",
       "      <th>Unnamed: 0</th>\n",
       "      <th>source</th>\n",
       "      <th>target</th>\n",
       "      <th>weight</th>\n",
       "    </tr>\n",
       "  </thead>\n",
       "  <tbody>\n",
       "    <tr>\n",
       "      <th>0</th>\n",
       "      <td>0</td>\n",
       "      <td>7</td>\n",
       "      <td>47</td>\n",
       "      <td>0.308373</td>\n",
       "    </tr>\n",
       "    <tr>\n",
       "      <th>1</th>\n",
       "      <td>1</td>\n",
       "      <td>7</td>\n",
       "      <td>21</td>\n",
       "      <td>0.173196</td>\n",
       "    </tr>\n",
       "    <tr>\n",
       "      <th>2</th>\n",
       "      <td>2</td>\n",
       "      <td>7</td>\n",
       "      <td>36</td>\n",
       "      <td>0.289113</td>\n",
       "    </tr>\n",
       "    <tr>\n",
       "      <th>3</th>\n",
       "      <td>3</td>\n",
       "      <td>7</td>\n",
       "      <td>2</td>\n",
       "      <td>0.286444</td>\n",
       "    </tr>\n",
       "    <tr>\n",
       "      <th>4</th>\n",
       "      <td>4</td>\n",
       "      <td>7</td>\n",
       "      <td>46</td>\n",
       "      <td>0.415905</td>\n",
       "    </tr>\n",
       "    <tr>\n",
       "      <th>...</th>\n",
       "      <td>...</td>\n",
       "      <td>...</td>\n",
       "      <td>...</td>\n",
       "      <td>...</td>\n",
       "    </tr>\n",
       "    <tr>\n",
       "      <th>271</th>\n",
       "      <td>271</td>\n",
       "      <td>43</td>\n",
       "      <td>5</td>\n",
       "      <td>0.176491</td>\n",
       "    </tr>\n",
       "    <tr>\n",
       "      <th>272</th>\n",
       "      <td>272</td>\n",
       "      <td>43</td>\n",
       "      <td>2</td>\n",
       "      <td>0.185623</td>\n",
       "    </tr>\n",
       "    <tr>\n",
       "      <th>273</th>\n",
       "      <td>273</td>\n",
       "      <td>43</td>\n",
       "      <td>12</td>\n",
       "      <td>0.073547</td>\n",
       "    </tr>\n",
       "    <tr>\n",
       "      <th>274</th>\n",
       "      <td>274</td>\n",
       "      <td>43</td>\n",
       "      <td>30</td>\n",
       "      <td>0.156143</td>\n",
       "    </tr>\n",
       "    <tr>\n",
       "      <th>275</th>\n",
       "      <td>275</td>\n",
       "      <td>43</td>\n",
       "      <td>33</td>\n",
       "      <td>0.112377</td>\n",
       "    </tr>\n",
       "  </tbody>\n",
       "</table>\n",
       "<p>159 rows × 4 columns</p>\n",
       "</div>"
      ],
      "text/plain": [
       "     Unnamed: 0  source  target    weight\n",
       "0             0       7      47  0.308373\n",
       "1             1       7      21  0.173196\n",
       "2             2       7      36  0.289113\n",
       "3             3       7       2  0.286444\n",
       "4             4       7      46  0.415905\n",
       "..          ...     ...     ...       ...\n",
       "271         271      43       5  0.176491\n",
       "272         272      43       2  0.185623\n",
       "273         273      43      12  0.073547\n",
       "274         274      43      30  0.156143\n",
       "275         275      43      33  0.112377\n",
       "\n",
       "[159 rows x 4 columns]"
      ]
     },
     "execution_count": 7,
     "metadata": {},
     "output_type": "execute_result"
    }
   ],
   "source": [
    "network_df=network_df[network_df[\"weight\"]>0]\n",
    "network_df"
   ]
  },
  {
   "cell_type": "code",
   "execution_count": 9,
   "id": "6f99c521",
   "metadata": {},
   "outputs": [],
   "source": [
    "G = nx.from_pandas_edgelist(network_df, create_using = nx.DiGraph)"
   ]
  },
  {
   "cell_type": "code",
   "execution_count": 12,
   "id": "9e5812f8",
   "metadata": {},
   "outputs": [],
   "source": [
    "#nx.info(G)"
   ]
  },
  {
   "cell_type": "markdown",
   "id": "ec7f5c66",
   "metadata": {},
   "source": [
    "# Test if nodes load properly"
   ]
  },
  {
   "cell_type": "code",
   "execution_count": 13,
   "id": "86608467",
   "metadata": {},
   "outputs": [
    {
     "data": {
      "text/plain": [
       "50"
      ]
     },
     "execution_count": 13,
     "metadata": {},
     "output_type": "execute_result"
    }
   ],
   "source": [
    "len(G.nodes)"
   ]
  },
  {
   "cell_type": "code",
   "execution_count": 14,
   "id": "68bf2a32",
   "metadata": {},
   "outputs": [],
   "source": [
    "def show_nodes(G):\n",
    "    nodes = sorted(list(G.nodes()))\n",
    "    return ', '.join(nodes)\n",
    "#only works with string names for nodes"
   ]
  },
  {
   "cell_type": "code",
   "execution_count": 15,
   "id": "7731b74c",
   "metadata": {},
   "outputs": [
    {
     "data": {
      "text/plain": [
       "NodeView((7, 47, 21, 36, 2, 46, 44, 34, 32, 18, 17, 20, 29, 28, 37, 30, 23, 13, 10, 3, 39, 38, 42, 40, 12, 4, 0, 26, 6, 33, 27, 9, 22, 8, 35, 24, 1, 45, 14, 25, 31, 16, 43, 48, 15, 41, 5, 49, 19, 11))"
      ]
     },
     "execution_count": 15,
     "metadata": {},
     "output_type": "execute_result"
    }
   ],
   "source": [
    "G.nodes"
   ]
  },
  {
   "cell_type": "markdown",
   "id": "77743e72",
   "metadata": {},
   "source": [
    "# Test edges"
   ]
  },
  {
   "cell_type": "code",
   "execution_count": 16,
   "id": "60bb9c1a",
   "metadata": {},
   "outputs": [
    {
     "data": {
      "text/plain": [
       "OutEdgeView([(7, 47), (7, 21), (7, 36), (7, 2), (7, 46), (7, 44), (47, 7), (47, 34), (47, 32), (47, 21), (47, 18), (47, 17), (36, 30), (36, 32), (36, 7), (36, 26), (36, 22), (36, 24), (46, 24), (46, 1), (46, 34), (46, 28), (46, 7), (46, 45), (34, 14), (34, 47), (34, 46), (34, 37), (34, 26), (18, 27), (18, 37), (18, 42), (18, 9), (18, 47), (18, 22), (17, 38), (17, 48), (17, 22), (17, 8), (17, 9), (17, 47), (20, 29), (20, 28), (20, 37), (20, 30), (20, 23), (20, 13), (30, 36), (30, 16), (30, 9), (30, 20), (30, 43), (10, 2), (10, 3), (10, 39), (10, 38), (10, 42), (3, 39), (3, 10), (3, 16), (3, 1), (3, 11), (39, 3), (39, 44), (39, 10), (39, 11), (39, 21), (40, 12), (40, 13), (40, 38), (40, 4), (40, 0), (40, 37), (4, 37), (4, 41), (4, 29), (4, 40), (4, 2), (4, 0), (0, 31), (0, 35), (0, 27), (0, 40), (0, 4), (26, 6), (26, 29), (26, 33), (26, 36), (26, 28), (26, 34), (27, 18), (27, 8), (27, 0), (27, 35), (27, 6), (22, 42), (22, 31), (22, 17), (22, 15), (22, 36), (22, 18), (35, 9), (35, 0), (35, 11), (35, 33), (35, 27), (35, 31), (1, 23), (1, 46), (1, 45), (1, 3), (1, 42), (1, 28), (45, 15), (45, 49), (45, 1), (45, 11), (45, 14), (45, 46), (14, 34), (14, 25), (14, 24), (14, 45), (14, 23), (25, 28), (25, 14), (25, 15), (25, 48), (25, 8), (25, 41), (16, 5), (16, 30), (16, 3), (16, 49), (16, 12), (43, 21), (43, 5), (43, 2), (43, 12), (43, 30), (43, 33), (41, 44), (41, 4), (41, 21), (41, 23), (41, 24), (41, 25), (5, 16), (5, 43), (5, 23), (5, 37), (5, 49), (5, 19), (11, 19), (11, 9), (11, 35), (11, 45), (11, 39), (11, 3)])"
      ]
     },
     "execution_count": 16,
     "metadata": {},
     "output_type": "execute_result"
    }
   ],
   "source": [
    "G.edges"
   ]
  },
  {
   "cell_type": "code",
   "execution_count": 20,
   "id": "cde7030c",
   "metadata": {},
   "outputs": [
    {
     "data": {
      "text/plain": [
       "<bound method DiGraph.is_directed of <networkx.classes.digraph.DiGraph object at 0x7f0c9a480d90>>"
      ]
     },
     "execution_count": 20,
     "metadata": {},
     "output_type": "execute_result"
    }
   ],
   "source": [
    "G.is_directed"
   ]
  },
  {
   "cell_type": "markdown",
   "id": "b1d3c263",
   "metadata": {},
   "source": [
    "# Draw Graph"
   ]
  },
  {
   "cell_type": "code",
   "execution_count": 75,
   "id": "62173455",
   "metadata": {},
   "outputs": [
    {
     "data": {
      "image/png": "[encoded data removed]",
      "text/plain": [
       "<Figure size 640x480 with 1 Axes>"
      ]
     },
     "metadata": {},
     "output_type": "display_data"
    }
   ],
   "source": [
    "nx.draw_networkx(G,with_labels=True)"
   ]
  },
  {
   "cell_type": "code",
   "execution_count": 79,
   "id": "2ac73ead",
   "metadata": {},
   "outputs": [
    {
     "data": {
      "image/png": "[encoded data removed]",
      "text/plain": [
       "<Figure size 640x480 with 1 Axes>"
      ]
     },
     "metadata": {},
     "output_type": "display_data"
    }
   ],
   "source": [
    "nx.draw_spring(G,with_labels=True)"
   ]
  },
  {
   "cell_type": "markdown",
   "id": "fd8747b5",
   "metadata": {},
   "source": [
    "# Network Analysis"
   ]
  },
  {
   "cell_type": "markdown",
   "id": "8b902e1c",
   "metadata": {},
   "source": [
    "- How big is the network?\n",
    "- How complex is the network?\n",
    "- What does the network visually look like?\n",
    "- What are the most important nodes in the network?\n",
    "- Are there islands, or just one big continent?\n",
    "- What communities can be found in the network?\n",
    "- What bridges exist in the network?\n",
    "- What do the layers of the network reveal?"
   ]
  },
  {
   "cell_type": "code",
   "execution_count": 38,
   "id": "9b95cdb1",
   "metadata": {},
   "outputs": [
    {
     "data": {
      "text/plain": [
       "0.07168313561705732"
      ]
     },
     "execution_count": 38,
     "metadata": {},
     "output_type": "execute_result"
    }
   ],
   "source": [
    "nx.average_clustering(G)"
   ]
  },
  {
   "cell_type": "code",
   "execution_count": 39,
   "id": "2439dd3f",
   "metadata": {},
   "outputs": [
    {
     "data": {
      "text/plain": [
       "0.06489795918367347"
      ]
     },
     "execution_count": 39,
     "metadata": {},
     "output_type": "execute_result"
    }
   ],
   "source": [
    "from networkx.classes.function import density\n",
    "density(G)"
   ]
  },
  {
   "cell_type": "markdown",
   "id": "8c66b631",
   "metadata": {},
   "source": [
    "## Remove node with only single edge through list comprehension"
   ]
  },
  {
   "cell_type": "code",
   "execution_count": 78,
   "id": "ce90a2a8",
   "metadata": {},
   "outputs": [],
   "source": [
    "to_be_removed = [x for  x in G.nodes() if G.degree(x) <= 5]\n",
    "G.remove_nodes_from(to_be_removed)"
   ]
  },
  {
   "cell_type": "markdown",
   "id": "e78d25a9",
   "metadata": {},
   "source": [
    "## Node Degrees"
   ]
  },
  {
   "cell_type": "code",
   "execution_count": 77,
   "id": "a09af714",
   "metadata": {},
   "outputs": [
    {
     "data": {
      "text/plain": [
       "{7: 8,\n",
       " 47: 9,\n",
       " 21: 5,\n",
       " 36: 9,\n",
       " 2: 4,\n",
       " 46: 10,\n",
       " 34: 9,\n",
       " 18: 9,\n",
       " 17: 5,\n",
       " 20: 5,\n",
       " 28: 5,\n",
       " 37: 6,\n",
       " 30: 9,\n",
       " 23: 5,\n",
       " 10: 6,\n",
       " 3: 10,\n",
       " 39: 7,\n",
       " 42: 4,\n",
       " 40: 5,\n",
       " 4: 8,\n",
       " 0: 8,\n",
       " 26: 5,\n",
       " 27: 6,\n",
       " 9: 5,\n",
       " 22: 7,\n",
       " 35: 7,\n",
       " 24: 4,\n",
       " 1: 9,\n",
       " 45: 8,\n",
       " 14: 8,\n",
       " 25: 5,\n",
       " 16: 6,\n",
       " 43: 6,\n",
       " 41: 7,\n",
       " 5: 6,\n",
       " 11: 9}"
      ]
     },
     "execution_count": 77,
     "metadata": {},
     "output_type": "execute_result"
    }
   ],
   "source": [
    "#Degree is the number of nodes in a network that a node is connected to.\n",
    "degrees = dict(nx.degree(G))\n",
    "degrees"
   ]
  },
  {
   "cell_type": "code",
   "execution_count": 82,
   "id": "fbd61110",
   "metadata": {},
   "outputs": [
    {
     "data": {
      "text/plain": [
       "{7: 3,\n",
       " 47: 3,\n",
       " 36: 3,\n",
       " 46: 4,\n",
       " 34: 3,\n",
       " 18: 3,\n",
       " 37: 4,\n",
       " 30: 3,\n",
       " 10: 2,\n",
       " 3: 5,\n",
       " 39: 3,\n",
       " 4: 2,\n",
       " 0: 3,\n",
       " 27: 3,\n",
       " 22: 2,\n",
       " 35: 3,\n",
       " 1: 3,\n",
       " 45: 4,\n",
       " 14: 2,\n",
       " 16: 3,\n",
       " 43: 2,\n",
       " 41: 1,\n",
       " 5: 2,\n",
       " 11: 4}"
      ]
     },
     "execution_count": 82,
     "metadata": {},
     "output_type": "execute_result"
    }
   ],
   "source": [
    "in_degree={}\n",
    "for key,value in G.in_degree():\n",
    "    in_degree[key]=value\n",
    "in_degree"
   ]
  },
  {
   "cell_type": "code",
   "execution_count": 83,
   "id": "65865514",
   "metadata": {},
   "outputs": [
    {
     "data": {
      "text/plain": [
       "{7: 3,\n",
       " 47: 3,\n",
       " 36: 3,\n",
       " 46: 4,\n",
       " 34: 4,\n",
       " 18: 4,\n",
       " 37: 0,\n",
       " 30: 3,\n",
       " 10: 2,\n",
       " 3: 5,\n",
       " 39: 3,\n",
       " 4: 3,\n",
       " 0: 3,\n",
       " 27: 3,\n",
       " 22: 2,\n",
       " 35: 3,\n",
       " 1: 3,\n",
       " 45: 4,\n",
       " 14: 2,\n",
       " 16: 3,\n",
       " 43: 2,\n",
       " 41: 1,\n",
       " 5: 3,\n",
       " 11: 4}"
      ]
     },
     "execution_count": 83,
     "metadata": {},
     "output_type": "execute_result"
    }
   ],
   "source": [
    "out_degree={}\n",
    "for key,value in G.out_degree():\n",
    "    out_degree[key]=value\n",
    "out_degree"
   ]
  },
  {
   "cell_type": "code",
   "execution_count": 41,
   "id": "25d844af",
   "metadata": {},
   "outputs": [
    {
     "data": {
      "text/plain": [
       "{7: 0.18367346938775508,\n",
       " 47: 0.2040816326530612,\n",
       " 21: 0.1020408163265306,\n",
       " 36: 0.2040816326530612,\n",
       " 2: 0.08163265306122448,\n",
       " 46: 0.2040816326530612,\n",
       " 44: 0.061224489795918366,\n",
       " 34: 0.18367346938775508,\n",
       " 32: 0.04081632653061224,\n",
       " 18: 0.18367346938775508,\n",
       " 17: 0.16326530612244897,\n",
       " 20: 0.14285714285714285,\n",
       " 29: 0.061224489795918366,\n",
       " 28: 0.1020408163265306,\n",
       " 37: 0.12244897959183673,\n",
       " 30: 0.18367346938775508,\n",
       " 23: 0.1020408163265306,\n",
       " 13: 0.04081632653061224,\n",
       " 10: 0.14285714285714285,\n",
       " 3: 0.2040816326530612,\n",
       " 39: 0.16326530612244897,\n",
       " 38: 0.061224489795918366,\n",
       " 42: 0.08163265306122448,\n",
       " 40: 0.16326530612244897,\n",
       " 12: 0.061224489795918366,\n",
       " 4: 0.18367346938775508,\n",
       " 0: 0.18367346938775508,\n",
       " 26: 0.16326530612244897,\n",
       " 6: 0.04081632653061224,\n",
       " 33: 0.061224489795918366,\n",
       " 27: 0.16326530612244897,\n",
       " 9: 0.1020408163265306,\n",
       " 22: 0.18367346938775508,\n",
       " 8: 0.061224489795918366,\n",
       " 35: 0.18367346938775508,\n",
       " 24: 0.08163265306122448,\n",
       " 1: 0.18367346938775508,\n",
       " 45: 0.2040816326530612,\n",
       " 14: 0.16326530612244897,\n",
       " 25: 0.16326530612244897,\n",
       " 31: 0.061224489795918366,\n",
       " 16: 0.16326530612244897,\n",
       " 43: 0.16326530612244897,\n",
       " 48: 0.04081632653061224,\n",
       " 15: 0.061224489795918366,\n",
       " 41: 0.16326530612244897,\n",
       " 5: 0.16326530612244897,\n",
       " 49: 0.061224489795918366,\n",
       " 19: 0.04081632653061224,\n",
       " 11: 0.2040816326530612}"
      ]
     },
     "execution_count": 41,
     "metadata": {},
     "output_type": "execute_result"
    }
   ],
   "source": [
    "#Degree centrality is the fraction of nodes in a network that a node is connected to.\n",
    "degcent = nx.degree_centrality(G)\n",
    "degcent"
   ]
  },
  {
   "cell_type": "code",
   "execution_count": 42,
   "id": "e7098154",
   "metadata": {},
   "outputs": [
    {
     "data": {
      "text/plain": [
       "{7: 0.02008055147700588,\n",
       " 47: 0.022258583345487457,\n",
       " 21: 0.024681790627661123,\n",
       " 36: 0.02206479256671176,\n",
       " 2: 0.02148399698025431,\n",
       " 46: 0.023657476521532283,\n",
       " 44: 0.019201962615538776,\n",
       " 34: 0.022824677517242122,\n",
       " 32: 0.016729132057626623,\n",
       " 18: 0.019637454539705456,\n",
       " 17: 0.016246789895185482,\n",
       " 20: 0.014103506695840047,\n",
       " 29: 0.017574242269336286,\n",
       " 28: 0.023642675503267818,\n",
       " 37: 0.0264653699363175,\n",
       " 30: 0.021491024806011064,\n",
       " 23: 0.02344176677587614,\n",
       " 13: 0.014830991406074885,\n",
       " 10: 0.018880849541246605,\n",
       " 3: 0.027657642125275942,\n",
       " 39: 0.021938877175730998,\n",
       " 38: 0.018344164051340293,\n",
       " 42: 0.022185138449215686,\n",
       " 40: 0.01682153293821741,\n",
       " 12: 0.018750300728056682,\n",
       " 4: 0.01872921109356856,\n",
       " 0: 0.021871471205420358,\n",
       " 26: 0.01745595441763419,\n",
       " 6: 0.016313533001405322,\n",
       " 33: 0.01824372103778489,\n",
       " 27: 0.01994458692836549,\n",
       " 9: 0.025759511178916516,\n",
       " 22: 0.018659468096224038,\n",
       " 8: 0.0184124313840034,\n",
       " 35: 0.02113669242687419,\n",
       " 24: 0.022502134191106925,\n",
       " 1: 0.02188533391141274,\n",
       " 45: 0.023876404815777543,\n",
       " 14: 0.019982707495518292,\n",
       " 25: 0.016024848490128238,\n",
       " 31: 0.019806066259218713,\n",
       " 16: 0.02112386385897886,\n",
       " 43: 0.0164222469677486,\n",
       " 48: 0.015021766739483425,\n",
       " 15: 0.018746031433125383,\n",
       " 41: 0.01537349095612525,\n",
       " 5: 0.0163671779004385,\n",
       " 49: 0.019741877628087993,\n",
       " 19: 0.016346516359006732,\n",
       " 11: 0.025257661677887084}"
      ]
     },
     "execution_count": 42,
     "metadata": {},
     "output_type": "execute_result"
    }
   ],
   "source": [
    "#The PageRank mathematical formula considers the number of inbound and\n",
    "#outbound degrees of not only a node in question but of the linking nodes as well.\n",
    "pagerank = nx.pagerank(G)\n",
    "pagerank"
   ]
  },
  {
   "cell_type": "markdown",
   "id": "d7aec513",
   "metadata": {},
   "source": [
    "# Community detection"
   ]
  },
  {
   "cell_type": "code",
   "execution_count": 43,
   "id": "82c4a4ec",
   "metadata": {},
   "outputs": [],
   "source": [
    "import community as community_louvain  "
   ]
  },
  {
   "cell_type": "code",
   "execution_count": 44,
   "id": "5cff8ba0",
   "metadata": {},
   "outputs": [],
   "source": [
    "def draw_partition(G, partition): \n",
    "\n",
    "    import matplotlib.cm as cm \n",
    "    import matplotlib.pyplot as plt \n",
    "\n",
    "    # draw the graph \n",
    "    plt.figure(3,figsize=(12,12)) \n",
    "    pos = nx.spring_layout(G) \n",
    "\n",
    "    # color the nodes according to their partition \n",
    "\n",
    "    cmap = cm.get_cmap('flag', max(partition.values()) + 1) \n",
    "    \n",
    "    nx.draw_networkx_nodes(G, pos, partition.keys(), node_size=20, cmap=cmap, node_color=list(partition.values())) \n",
    "    nx.draw_networkx_edges(G, pos, alpha=0.5, width=0.3) \n",
    "\n",
    "    return plt.show() "
   ]
  },
  {
   "cell_type": "code",
   "execution_count": 45,
   "id": "7c87f38e",
   "metadata": {},
   "outputs": [
    {
     "ename": "TypeError",
     "evalue": "Bad graph type, use only non directed graph",
     "output_type": "error",
     "traceback": [
      "\u001b[0;31m---------------------------------------------------------------------------\u001b[0m",
      "\u001b[0;31mTypeError\u001b[0m                                 Traceback (most recent call last)",
      "Cell \u001b[0;32mIn[45], line 1\u001b[0m\n\u001b[0;32m----> 1\u001b[0m partition \u001b[38;5;241m=\u001b[39m \u001b[43mcommunity_louvain\u001b[49m\u001b[38;5;241;43m.\u001b[39;49m\u001b[43mbest_partition\u001b[49m\u001b[43m(\u001b[49m\u001b[43mG\u001b[49m\u001b[43m,\u001b[49m\u001b[43m \u001b[49m\u001b[43mresolution\u001b[49m\u001b[38;5;241;43m=\u001b[39;49m\u001b[38;5;241;43m2\u001b[39;49m\u001b[43m)\u001b[49m \n",
      "File \u001b[0;32m~/.local/lib/python3.11/site-packages/community/community_louvain.py:249\u001b[0m, in \u001b[0;36mbest_partition\u001b[0;34m(graph, partition, weight, resolution, randomize, random_state)\u001b[0m\n\u001b[1;32m    163\u001b[0m \u001b[38;5;28;01mdef\u001b[39;00m \u001b[38;5;21mbest_partition\u001b[39m(graph,\n\u001b[1;32m    164\u001b[0m                    partition\u001b[38;5;241m=\u001b[39m\u001b[38;5;28;01mNone\u001b[39;00m,\n\u001b[1;32m    165\u001b[0m                    weight\u001b[38;5;241m=\u001b[39m\u001b[38;5;124m'\u001b[39m\u001b[38;5;124mweight\u001b[39m\u001b[38;5;124m'\u001b[39m,\n\u001b[1;32m    166\u001b[0m                    resolution\u001b[38;5;241m=\u001b[39m\u001b[38;5;241m1.\u001b[39m,\n\u001b[1;32m    167\u001b[0m                    randomize\u001b[38;5;241m=\u001b[39m\u001b[38;5;28;01mNone\u001b[39;00m,\n\u001b[1;32m    168\u001b[0m                    random_state\u001b[38;5;241m=\u001b[39m\u001b[38;5;28;01mNone\u001b[39;00m):\n\u001b[1;32m    169\u001b[0m \u001b[38;5;250m    \u001b[39m\u001b[38;5;124;03m\"\"\"Compute the partition of the graph nodes which maximises the modularity\u001b[39;00m\n\u001b[1;32m    170\u001b[0m \u001b[38;5;124;03m    (or try..) using the Louvain heuristices\u001b[39;00m\n\u001b[1;32m    171\u001b[0m \n\u001b[0;32m   (...)\u001b[0m\n\u001b[1;32m    247\u001b[0m \u001b[38;5;124;03m    >>> plt.show()\u001b[39;00m\n\u001b[1;32m    248\u001b[0m \u001b[38;5;124;03m    \"\"\"\u001b[39;00m\n\u001b[0;32m--> 249\u001b[0m     dendo \u001b[38;5;241m=\u001b[39m \u001b[43mgenerate_dendrogram\u001b[49m\u001b[43m(\u001b[49m\u001b[43mgraph\u001b[49m\u001b[43m,\u001b[49m\n\u001b[1;32m    250\u001b[0m \u001b[43m                                \u001b[49m\u001b[43mpartition\u001b[49m\u001b[43m,\u001b[49m\n\u001b[1;32m    251\u001b[0m \u001b[43m                                \u001b[49m\u001b[43mweight\u001b[49m\u001b[43m,\u001b[49m\n\u001b[1;32m    252\u001b[0m \u001b[43m                                \u001b[49m\u001b[43mresolution\u001b[49m\u001b[43m,\u001b[49m\n\u001b[1;32m    253\u001b[0m \u001b[43m                                \u001b[49m\u001b[43mrandomize\u001b[49m\u001b[43m,\u001b[49m\n\u001b[1;32m    254\u001b[0m \u001b[43m                                \u001b[49m\u001b[43mrandom_state\u001b[49m\u001b[43m)\u001b[49m\n\u001b[1;32m    255\u001b[0m     \u001b[38;5;28;01mreturn\u001b[39;00m partition_at_level(dendo, \u001b[38;5;28mlen\u001b[39m(dendo) \u001b[38;5;241m-\u001b[39m \u001b[38;5;241m1\u001b[39m)\n",
      "File \u001b[0;32m~/.local/lib/python3.11/site-packages/community/community_louvain.py:322\u001b[0m, in \u001b[0;36mgenerate_dendrogram\u001b[0;34m(graph, part_init, weight, resolution, randomize, random_state)\u001b[0m\n\u001b[1;32m    264\u001b[0m \u001b[38;5;250m\u001b[39m\u001b[38;5;124;03m\"\"\"Find communities in the graph and return the associated dendrogram\u001b[39;00m\n\u001b[1;32m    265\u001b[0m \n\u001b[1;32m    266\u001b[0m \u001b[38;5;124;03mA dendrogram is a tree and each level is a partition of the graph nodes.\u001b[39;00m\n\u001b[0;32m   (...)\u001b[0m\n\u001b[1;32m    319\u001b[0m \u001b[38;5;124;03m:type weight:\u001b[39;00m\n\u001b[1;32m    320\u001b[0m \u001b[38;5;124;03m\"\"\"\u001b[39;00m\n\u001b[1;32m    321\u001b[0m \u001b[38;5;28;01mif\u001b[39;00m graph\u001b[38;5;241m.\u001b[39mis_directed():\n\u001b[0;32m--> 322\u001b[0m     \u001b[38;5;28;01mraise\u001b[39;00m \u001b[38;5;167;01mTypeError\u001b[39;00m(\u001b[38;5;124m\"\u001b[39m\u001b[38;5;124mBad graph type, use only non directed graph\u001b[39m\u001b[38;5;124m\"\u001b[39m)\n\u001b[1;32m    324\u001b[0m \u001b[38;5;66;03m# Properly handle random state, eventually remove old `randomize` parameter\u001b[39;00m\n\u001b[1;32m    325\u001b[0m \u001b[38;5;66;03m# NOTE: when `randomize` is removed, delete code up to random_state = ...\u001b[39;00m\n\u001b[1;32m    326\u001b[0m \u001b[38;5;28;01mif\u001b[39;00m randomize \u001b[38;5;129;01mis\u001b[39;00m \u001b[38;5;129;01mnot\u001b[39;00m \u001b[38;5;28;01mNone\u001b[39;00m:\n",
      "\u001b[0;31mTypeError\u001b[0m: Bad graph type, use only non directed graph"
     ]
    }
   ],
   "source": [
    "partition = community_louvain.best_partition(G, resolution=2) "
   ]
  },
  {
   "cell_type": "code",
   "execution_count": 43,
   "id": "46e0163c",
   "metadata": {},
   "outputs": [
    {
     "ename": "NameError",
     "evalue": "name 'partition' is not defined",
     "output_type": "error",
     "traceback": [
      "\u001b[0;31m---------------------------------------------------------------------------\u001b[0m",
      "\u001b[0;31mNameError\u001b[0m                                 Traceback (most recent call last)",
      "Cell \u001b[0;32mIn[43], line 1\u001b[0m\n\u001b[0;32m----> 1\u001b[0m draw_partition(G, \u001b[43mpartition\u001b[49m) \n",
      "\u001b[0;31mNameError\u001b[0m: name 'partition' is not defined"
     ]
    }
   ],
   "source": [
    "draw_partition(G, partition) "
   ]
  },
  {
   "cell_type": "code",
   "execution_count": 44,
   "id": "ce9df246",
   "metadata": {},
   "outputs": [
    {
     "ename": "NameError",
     "evalue": "name 'partition' is not defined",
     "output_type": "error",
     "traceback": [
      "\u001b[0;31m---------------------------------------------------------------------------\u001b[0m",
      "\u001b[0;31mNameError\u001b[0m                                 Traceback (most recent call last)",
      "Cell \u001b[0;32mIn[44], line 1\u001b[0m\n\u001b[0;32m----> 1\u001b[0m community_df \u001b[38;5;241m=\u001b[39m pd\u001b[38;5;241m.\u001b[39mDataFrame(\u001b[43mpartition\u001b[49m, index\u001b[38;5;241m=\u001b[39m[\u001b[38;5;241m0\u001b[39m])\u001b[38;5;241m.\u001b[39mT \n\u001b[1;32m      2\u001b[0m community_df\u001b[38;5;241m.\u001b[39mcolumns \u001b[38;5;241m=\u001b[39m [\u001b[38;5;124m'\u001b[39m\u001b[38;5;124mcommunity\u001b[39m\u001b[38;5;124m'\u001b[39m] \n\u001b[1;32m      3\u001b[0m community_df\u001b[38;5;241m.\u001b[39mhead() \n",
      "\u001b[0;31mNameError\u001b[0m: name 'partition' is not defined"
     ]
    }
   ],
   "source": [
    "community_df = pd.DataFrame(partition, index=[0]).T \n",
    "community_df.columns = ['community'] \n",
    "community_df.head() "
   ]
  },
  {
   "cell_type": "code",
   "execution_count": 45,
   "id": "1312e95a",
   "metadata": {},
   "outputs": [
    {
     "ename": "NameError",
     "evalue": "name 'community_df' is not defined",
     "output_type": "error",
     "traceback": [
      "\u001b[0;31m---------------------------------------------------------------------------\u001b[0m",
      "\u001b[0;31mNameError\u001b[0m                                 Traceback (most recent call last)",
      "Cell \u001b[0;32mIn[45], line 1\u001b[0m\n\u001b[0;32m----> 1\u001b[0m \u001b[43mcommunity_df\u001b[49m[\u001b[38;5;124m'\u001b[39m\u001b[38;5;124mcommunity\u001b[39m\u001b[38;5;124m'\u001b[39m]\u001b[38;5;241m.\u001b[39mvalue_counts() \n",
      "\u001b[0;31mNameError\u001b[0m: name 'community_df' is not defined"
     ]
    }
   ],
   "source": [
    "community_df['community'].value_counts() "
   ]
  },
  {
   "cell_type": "code",
   "execution_count": 46,
   "id": "cbf4b410",
   "metadata": {},
   "outputs": [],
   "source": [
    "def get_community_nodes(commmunity_df, partition): \n",
    "\n",
    "    community_nodes = community_df[community_df['community']==partition].index.to_list() \n",
    "\n",
    "    return community_nodes "
   ]
  },
  {
   "cell_type": "code",
   "execution_count": 47,
   "id": "65595c84",
   "metadata": {},
   "outputs": [],
   "source": [
    "def draw_community(G, community_df, partition, node_size=3, show_names=False): \n",
    "\n",
    "    community_nodes = get_community_nodes(community_df, partition) \n",
    "\n",
    "    G_community = G.subgraph(community_nodes) \n",
    "\n",
    "    return draw_graph(G_community, node_size=node_size, show_names=show_names) "
   ]
  },
  {
   "cell_type": "code",
   "execution_count": 48,
   "id": "2ee1962d",
   "metadata": {},
   "outputs": [
    {
     "ename": "NameError",
     "evalue": "name 'community_df' is not defined",
     "output_type": "error",
     "traceback": [
      "\u001b[0;31m---------------------------------------------------------------------------\u001b[0m",
      "\u001b[0;31mNameError\u001b[0m                                 Traceback (most recent call last)",
      "Cell \u001b[0;32mIn[48], line 1\u001b[0m\n\u001b[0;32m----> 1\u001b[0m draw_community(G, \u001b[43mcommunity_df\u001b[49m, \u001b[38;5;241m1\u001b[39m, show_names\u001b[38;5;241m=\u001b[39m\u001b[38;5;28;01mTrue\u001b[39;00m) \u001b[38;5;66;03m# draw community 1\u001b[39;00m\n",
      "\u001b[0;31mNameError\u001b[0m: name 'community_df' is not defined"
     ]
    }
   ],
   "source": [
    "draw_community(G, community_df, 1, show_names=True) # draw community 1"
   ]
  }
 ],
 "metadata": {
  "kernelspec": {
   "display_name": "Python 3 (ipykernel)",
   "language": "python",
   "name": "python3"
  },
  "language_info": {
   "codemirror_mode": {
    "name": "ipython",
    "version": 3
   },
   "file_extension": ".py",
   "mimetype": "text/x-python",
   "name": "python",
   "nbconvert_exporter": "python",
   "pygments_lexer": "ipython3",
   "version": "3.11.4"
  }
 },
 "nbformat": 4,
 "nbformat_minor": 5
}
